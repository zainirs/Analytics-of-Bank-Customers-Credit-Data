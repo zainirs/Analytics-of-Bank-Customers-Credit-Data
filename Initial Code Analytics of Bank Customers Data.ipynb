{
  "cells": [
    {
      "cell_type": "code",
      "execution_count": null,
      "metadata": {
        "id": "p9GXEpXSbliG",
        "outputId": "874dc16d-3679-480c-d212-7d3a60543cc8"
      },
      "outputs": [
        {
          "name": "stdout",
          "output_type": "stream",
          "text": [
            "    Status of existing checking account  Duration in month Credit history  \\\n",
            "0                                   A11                  6            A34   \n",
            "1                                   A12                 48            A32   \n",
            "2                                   A14                 12            A34   \n",
            "3                                   A11                 42            A32   \n",
            "4                                   A11                 24            A33   \n",
            "..                                  ...                ...            ...   \n",
            "995                                 A14                 12            A32   \n",
            "996                                 A11                 30            A32   \n",
            "997                                 A14                 12            A32   \n",
            "998                                 A11                 45            A32   \n",
            "999                                 A12                 45            A34   \n",
            "\n",
            "    Purpose  Credit amount Savings account/bonds Present employment since  \\\n",
            "0       A43           1169                   A65                      A75   \n",
            "1       A43           5951                   A61                      A73   \n",
            "2       A46           2096                   A61                      A74   \n",
            "3       A42           7882                   A61                      A74   \n",
            "4       A40           4870                   A61                      A73   \n",
            "..      ...            ...                   ...                      ...   \n",
            "995     A42           1736                   A61                      A74   \n",
            "996     A41           3857                   A61                      A73   \n",
            "997     A43            804                   A61                      A75   \n",
            "998     A43           1845                   A61                      A73   \n",
            "999     A41           4576                   A62                      A71   \n",
            "\n",
            "     Installment rate in percentage of disposable income  \\\n",
            "0                                                    4     \n",
            "1                                                    2     \n",
            "2                                                    2     \n",
            "3                                                    2     \n",
            "4                                                    3     \n",
            "..                                                 ...     \n",
            "995                                                  3     \n",
            "996                                                  4     \n",
            "997                                                  4     \n",
            "998                                                  4     \n",
            "999                                                  3     \n",
            "\n",
            "    Personal status and sex Other debtors / guarantors  ...  Property  \\\n",
            "0                       A93                       A101  ...      A121   \n",
            "1                       A92                       A101  ...      A121   \n",
            "2                       A93                       A101  ...      A121   \n",
            "3                       A93                       A103  ...      A122   \n",
            "4                       A93                       A101  ...      A124   \n",
            "..                      ...                        ...  ...       ...   \n",
            "995                     A92                       A101  ...      A121   \n",
            "996                     A91                       A101  ...      A122   \n",
            "997                     A93                       A101  ...      A123   \n",
            "998                     A93                       A101  ...      A124   \n",
            "999                     A93                       A101  ...      A123   \n",
            "\n",
            "    Age in years        Other installment plans  Housing  \\\n",
            "0             67                            A143    A152   \n",
            "1             22                            A143    A152   \n",
            "2             49                            A143    A152   \n",
            "3             45                            A143    A153   \n",
            "4             53                            A143    A153   \n",
            "..           ...                             ...     ...   \n",
            "995           31                            A143    A152   \n",
            "996           40                            A143    A152   \n",
            "997           38                            A143    A152   \n",
            "998           23                            A143    A153   \n",
            "999           27                            A143    A152   \n",
            "\n",
            "    Number of existing credits at this bank   Job  \\\n",
            "0                                         2  A173   \n",
            "1                                         1  A173   \n",
            "2                                         1  A172   \n",
            "3                                         1  A173   \n",
            "4                                         2  A173   \n",
            "..                                      ...   ...   \n",
            "995                                       1  A172   \n",
            "996                                       1  A174   \n",
            "997                                       1  A173   \n",
            "998                                       1  A173   \n",
            "999                                       1  A173   \n",
            "\n",
            "    Number of people being liable to provide maintenance for  Telephone  \\\n",
            "0                                                    1             A192   \n",
            "1                                                    1             A191   \n",
            "2                                                    2             A191   \n",
            "3                                                    2             A191   \n",
            "4                                                    2             A191   \n",
            "..                                                 ...              ...   \n",
            "995                                                  1             A191   \n",
            "996                                                  1             A192   \n",
            "997                                                  1             A191   \n",
            "998                                                  1             A192   \n",
            "999                                                  1             A191   \n",
            "\n",
            "    foreign worker Cost Matrix  \n",
            "0             A201           1  \n",
            "1             A201           2  \n",
            "2             A201           1  \n",
            "3             A201           1  \n",
            "4             A201           2  \n",
            "..             ...         ...  \n",
            "995           A201           1  \n",
            "996           A201           1  \n",
            "997           A201           1  \n",
            "998           A201           2  \n",
            "999           A201           1  \n",
            "\n",
            "[1000 rows x 21 columns]\n"
          ]
        }
      ],
      "source": [
        "import pandas as pd\n",
        "# reading csv files\n",
        "data=pd.read_csv('/content/german.csv')\n",
        "df=pd.DataFrame(data)\n",
        "print(df)"
      ]
    },
    {
      "cell_type": "code",
      "execution_count": null,
      "metadata": {
        "id": "4_FDxIuGbliJ"
      },
      "outputs": [],
      "source": [
        "df.head(10)"
      ]
    },
    {
      "cell_type": "code",
      "execution_count": null,
      "metadata": {
        "id": "jRakwucibliK",
        "outputId": "95f7b646-93f0-408f-978f-4bddcee15a10"
      },
      "outputs": [
        {
          "data": {
            "text/plain": [
              "Status of existing checking account                         0\n",
              "Duration in month                                           0\n",
              "Credit history                                              0\n",
              "Purpose                                                     0\n",
              "Credit amount                                               0\n",
              "Savings account/bonds                                       0\n",
              "Present employment since                                    0\n",
              "Installment rate in percentage of disposable income         0\n",
              "Personal status and sex                                     0\n",
              "Other debtors / guarantors                                  0\n",
              "Present residence since                                     0\n",
              "Property                                                    0\n",
              "Age in years                                                0\n",
              "      Other installment plans                               0\n",
              "Housing                                                     0\n",
              "Number of existing credits at this bank                     0\n",
              "Job                                                         0\n",
              "Number of people being liable to provide maintenance for    0\n",
              "Telephone                                                   0\n",
              "foreign worker                                              0\n",
              "Cost Matrix                                                 0\n",
              "dtype: int64"
            ]
          },
          "execution_count": 261,
          "metadata": {},
          "output_type": "execute_result"
        }
      ],
      "source": [
        "df.isnull().sum()"
      ]
    },
    {
      "cell_type": "code",
      "execution_count": null,
      "metadata": {
        "id": "uDVJ8ML5bliK",
        "outputId": "8b5f8fc5-89a6-472d-be96-f8d20b26fcb4"
      },
      "outputs": [
        {
          "data": {
            "text/plain": [
              "0    A14\n",
              "dtype: object"
            ]
          },
          "execution_count": 4,
          "metadata": {},
          "output_type": "execute_result"
        }
      ],
      "source": [
        "import statistics\n",
        "df[\"Status of existing checking account\"].mode()"
      ]
    },
    {
      "cell_type": "code",
      "execution_count": null,
      "metadata": {
        "id": "hsmqf14HbliN",
        "outputId": "b6c51aa6-562b-45a4-a048-a372f5422fef"
      },
      "outputs": [
        {
          "data": {
            "text/plain": [
              "0    A32\n",
              "dtype: object"
            ]
          },
          "execution_count": 5,
          "metadata": {},
          "output_type": "execute_result"
        }
      ],
      "source": [
        "df[\"Credit history\"].mode()"
      ]
    },
    {
      "cell_type": "code",
      "execution_count": null,
      "metadata": {
        "id": "gQ9u9odCbliN",
        "outputId": "c027b5ce-a3db-4ef8-f02c-2811445d420a"
      },
      "outputs": [
        {
          "data": {
            "text/plain": [
              "0    A73\n",
              "dtype: object"
            ]
          },
          "execution_count": 6,
          "metadata": {},
          "output_type": "execute_result"
        }
      ],
      "source": [
        "df[\"Present employment since\"].mode()"
      ]
    },
    {
      "cell_type": "code",
      "execution_count": null,
      "metadata": {
        "id": "GnH_iT4UbliO",
        "outputId": "53a2ac91-6ec4-4b89-e131-1f831d0a6a8b"
      },
      "outputs": [
        {
          "data": {
            "text/plain": [
              "0    A43\n",
              "dtype: object"
            ]
          },
          "execution_count": 265,
          "metadata": {},
          "output_type": "execute_result"
        }
      ],
      "source": [
        "df[\"Purpose\"].mode()"
      ]
    },
    {
      "cell_type": "code",
      "execution_count": null,
      "metadata": {
        "id": "eEsjZj7hbliO",
        "outputId": "2e71922e-fbc9-427b-9f65-85f31cb4eb22"
      },
      "outputs": [
        {
          "data": {
            "text/plain": [
              "0    A61\n",
              "dtype: object"
            ]
          },
          "execution_count": 266,
          "metadata": {},
          "output_type": "execute_result"
        }
      ],
      "source": [
        "df[\"Savings account/bonds\"].mode()"
      ]
    },
    {
      "cell_type": "code",
      "execution_count": null,
      "metadata": {
        "id": "VuTkNc5ybliP",
        "outputId": "59f941a1-f4a6-447e-910d-802fa54b2c82"
      },
      "outputs": [
        {
          "data": {
            "text/plain": [
              "0    A73\n",
              "dtype: object"
            ]
          },
          "execution_count": 7,
          "metadata": {},
          "output_type": "execute_result"
        }
      ],
      "source": [
        "df[\"Present employment since\"].mode()"
      ]
    },
    {
      "cell_type": "code",
      "execution_count": null,
      "metadata": {
        "id": "ncuhQ7edbliP",
        "outputId": "cd2f4695-7b04-488f-ddca-9541c791ef62"
      },
      "outputs": [
        {
          "data": {
            "text/plain": [
              "0    A93\n",
              "dtype: object"
            ]
          },
          "execution_count": 269,
          "metadata": {},
          "output_type": "execute_result"
        }
      ],
      "source": [
        "df[\"Personal status and sex\"].mode()"
      ]
    },
    {
      "cell_type": "code",
      "execution_count": null,
      "metadata": {
        "id": "yZ8esDoKbliQ",
        "outputId": "bfbb76b0-853b-47fc-98cc-b9a663246162"
      },
      "outputs": [
        {
          "data": {
            "text/plain": [
              "0    A101\n",
              "dtype: object"
            ]
          },
          "execution_count": 270,
          "metadata": {},
          "output_type": "execute_result"
        }
      ],
      "source": [
        "df[\"Other debtors / guarantors\"].mode()"
      ]
    },
    {
      "cell_type": "code",
      "execution_count": null,
      "metadata": {
        "id": "lSnmYJ3VbliR",
        "outputId": "d8926ffb-ceb1-47fa-a9ad-c6566a4d7014"
      },
      "outputs": [
        {
          "data": {
            "text/plain": [
              "0    A123\n",
              "dtype: object"
            ]
          },
          "execution_count": 271,
          "metadata": {},
          "output_type": "execute_result"
        }
      ],
      "source": [
        "df[\"Property\"].mode()"
      ]
    },
    {
      "cell_type": "code",
      "execution_count": null,
      "metadata": {
        "id": "HgA6oyrTbliR",
        "outputId": "c24e074e-c66b-406e-bb97-e675906aea4e"
      },
      "outputs": [
        {
          "data": {
            "text/plain": [
              "0    A152\n",
              "dtype: object"
            ]
          },
          "execution_count": 272,
          "metadata": {},
          "output_type": "execute_result"
        }
      ],
      "source": [
        "df[\"Housing\"].mode()"
      ]
    },
    {
      "cell_type": "code",
      "execution_count": null,
      "metadata": {
        "id": "z2M3uIIpbliU",
        "outputId": "dbc6a8b8-7c78-4071-d28a-811a12184e89"
      },
      "outputs": [
        {
          "data": {
            "text/plain": [
              "0    A173\n",
              "dtype: object"
            ]
          },
          "execution_count": 273,
          "metadata": {},
          "output_type": "execute_result"
        }
      ],
      "source": [
        "df[\"Job\"].mode()"
      ]
    },
    {
      "cell_type": "code",
      "execution_count": null,
      "metadata": {
        "id": "omEIuH-ibliU",
        "outputId": "41489b32-53db-402d-93c3-334cc93a2eb3"
      },
      "outputs": [
        {
          "data": {
            "text/plain": [
              "0    A191\n",
              "dtype: object"
            ]
          },
          "execution_count": 274,
          "metadata": {},
          "output_type": "execute_result"
        }
      ],
      "source": [
        "df[\"Telephone\"].mode()"
      ]
    },
    {
      "cell_type": "code",
      "execution_count": null,
      "metadata": {
        "id": "lyoCQ3FUbliU",
        "outputId": "e74acc17-5977-4fc4-8b30-641c1a530f8f"
      },
      "outputs": [
        {
          "data": {
            "text/plain": [
              "0    A201\n",
              "dtype: object"
            ]
          },
          "execution_count": 275,
          "metadata": {},
          "output_type": "execute_result"
        }
      ],
      "source": [
        "df[\"foreign worker\"].mode()"
      ]
    },
    {
      "cell_type": "code",
      "execution_count": null,
      "metadata": {
        "id": "HCEGfOwnbliV",
        "outputId": "91689890-40cd-48a9-b05f-892cabf57d3c"
      },
      "outputs": [
        {
          "data": {
            "text/plain": [
              "0    A61\n",
              "dtype: object"
            ]
          },
          "execution_count": 18,
          "metadata": {},
          "output_type": "execute_result"
        }
      ],
      "source": [
        "df[\"Savings account/bonds\"].mode()"
      ]
    },
    {
      "cell_type": "code",
      "execution_count": null,
      "metadata": {
        "id": "DVTXDQAgbliV",
        "outputId": "917418d8-ec6c-46ac-dda8-31982d020019"
      },
      "outputs": [
        {
          "data": {
            "text/plain": [
              "0    A93\n",
              "dtype: object"
            ]
          },
          "execution_count": 26,
          "metadata": {},
          "output_type": "execute_result"
        }
      ],
      "source": [
        "df[\"Personal status and sex\"].mode()"
      ]
    },
    {
      "cell_type": "code",
      "execution_count": null,
      "metadata": {
        "id": "0RzAZqpmbliW",
        "outputId": "12766ef7-962b-4e5a-a4de-ee12662c57be"
      },
      "outputs": [
        {
          "data": {
            "text/plain": [
              "18.0"
            ]
          },
          "execution_count": 30,
          "metadata": {},
          "output_type": "execute_result"
        }
      ],
      "source": [
        "df[\"Duration in month\"].median()"
      ]
    },
    {
      "cell_type": "code",
      "execution_count": null,
      "metadata": {
        "id": "zQELLCIHbliW",
        "outputId": "e914db05-65d9-4400-fd35-9cb87eed912c"
      },
      "outputs": [
        {
          "data": {
            "text/plain": [
              "2319.5"
            ]
          },
          "execution_count": 10,
          "metadata": {},
          "output_type": "execute_result"
        }
      ],
      "source": [
        "df[\"Credit amount\"].median()"
      ]
    },
    {
      "cell_type": "code",
      "execution_count": null,
      "metadata": {
        "id": "xEUijOAJbliX",
        "outputId": "fd5b41c0-2a57-456e-9cce-ac695446b36f"
      },
      "outputs": [
        {
          "data": {
            "text/plain": [
              "3.0"
            ]
          },
          "execution_count": 11,
          "metadata": {},
          "output_type": "execute_result"
        }
      ],
      "source": [
        "df[\"Installment rate in percentage of disposable income\"].median()"
      ]
    },
    {
      "cell_type": "code",
      "execution_count": null,
      "metadata": {
        "id": "BUtQ-sYhbliX",
        "outputId": "e979f25f-b6cb-4284-a2c3-ac906cce9024"
      },
      "outputs": [
        {
          "data": {
            "text/plain": [
              "3.0"
            ]
          },
          "execution_count": 12,
          "metadata": {},
          "output_type": "execute_result"
        }
      ],
      "source": [
        "df[\"Present residence since\"].median()"
      ]
    },
    {
      "cell_type": "code",
      "execution_count": null,
      "metadata": {
        "id": "pGvM8LsNbliX",
        "outputId": "08e21899-99c2-408c-afee-371836a019ec"
      },
      "outputs": [
        {
          "data": {
            "text/plain": [
              "33.0"
            ]
          },
          "execution_count": 13,
          "metadata": {},
          "output_type": "execute_result"
        }
      ],
      "source": [
        "df[\"Age in years\"].median()"
      ]
    },
    {
      "cell_type": "code",
      "execution_count": null,
      "metadata": {
        "id": "ufktq6a9bliY",
        "outputId": "f215200e-c11a-4f31-cbc1-f69f226fc346"
      },
      "outputs": [
        {
          "data": {
            "text/plain": [
              "1.0"
            ]
          },
          "execution_count": 16,
          "metadata": {},
          "output_type": "execute_result"
        }
      ],
      "source": [
        "df[\"Number of existing credits at this bank\"].median()"
      ]
    },
    {
      "cell_type": "code",
      "execution_count": null,
      "metadata": {
        "id": "eyZDFBsEbliY",
        "outputId": "bf5413b8-7e7b-4d8e-c861-cc41f636330a"
      },
      "outputs": [
        {
          "data": {
            "text/plain": [
              "1.0"
            ]
          },
          "execution_count": 17,
          "metadata": {},
          "output_type": "execute_result"
        }
      ],
      "source": [
        "df[\"Number of people being liable to provide maintenance for\"].median()"
      ]
    },
    {
      "cell_type": "code",
      "execution_count": null,
      "metadata": {
        "id": "f0t23SqWbliZ",
        "outputId": "7d886217-0307-4053-b374-2e3a3c76103f"
      },
      "outputs": [
        {
          "data": {
            "text/html": [
              "<div>\n",
              "<style scoped>\n",
              "    .dataframe tbody tr th:only-of-type {\n",
              "        vertical-align: middle;\n",
              "    }\n",
              "\n",
              "    .dataframe tbody tr th {\n",
              "        vertical-align: top;\n",
              "    }\n",
              "\n",
              "    .dataframe thead th {\n",
              "        text-align: right;\n",
              "    }\n",
              "</style>\n",
              "<table border=\"1\" class=\"dataframe\">\n",
              "  <thead>\n",
              "    <tr style=\"text-align: right;\">\n",
              "      <th></th>\n",
              "      <th>Duration in month</th>\n",
              "      <th>Credit amount</th>\n",
              "      <th>Installment rate in percentage of disposable income</th>\n",
              "      <th>Present residence since</th>\n",
              "      <th>Age in years</th>\n",
              "      <th>Number of existing credits at this bank</th>\n",
              "      <th>Number of people being liable to provide maintenance for</th>\n",
              "      <th>Cost Matrix</th>\n",
              "    </tr>\n",
              "  </thead>\n",
              "  <tbody>\n",
              "    <tr>\n",
              "      <th>count</th>\n",
              "      <td>1000.000000</td>\n",
              "      <td>1000.000000</td>\n",
              "      <td>1000.000000</td>\n",
              "      <td>1000.000000</td>\n",
              "      <td>1000.000000</td>\n",
              "      <td>1000.000000</td>\n",
              "      <td>1000.000000</td>\n",
              "      <td>1000.000000</td>\n",
              "    </tr>\n",
              "    <tr>\n",
              "      <th>mean</th>\n",
              "      <td>20.903000</td>\n",
              "      <td>3271.258000</td>\n",
              "      <td>2.973000</td>\n",
              "      <td>2.845000</td>\n",
              "      <td>35.546000</td>\n",
              "      <td>1.407000</td>\n",
              "      <td>1.155000</td>\n",
              "      <td>1.300000</td>\n",
              "    </tr>\n",
              "    <tr>\n",
              "      <th>std</th>\n",
              "      <td>12.058814</td>\n",
              "      <td>2822.736876</td>\n",
              "      <td>1.118715</td>\n",
              "      <td>1.103718</td>\n",
              "      <td>11.375469</td>\n",
              "      <td>0.577654</td>\n",
              "      <td>0.362086</td>\n",
              "      <td>0.458487</td>\n",
              "    </tr>\n",
              "    <tr>\n",
              "      <th>min</th>\n",
              "      <td>4.000000</td>\n",
              "      <td>250.000000</td>\n",
              "      <td>1.000000</td>\n",
              "      <td>1.000000</td>\n",
              "      <td>19.000000</td>\n",
              "      <td>1.000000</td>\n",
              "      <td>1.000000</td>\n",
              "      <td>1.000000</td>\n",
              "    </tr>\n",
              "    <tr>\n",
              "      <th>25%</th>\n",
              "      <td>12.000000</td>\n",
              "      <td>1365.500000</td>\n",
              "      <td>2.000000</td>\n",
              "      <td>2.000000</td>\n",
              "      <td>27.000000</td>\n",
              "      <td>1.000000</td>\n",
              "      <td>1.000000</td>\n",
              "      <td>1.000000</td>\n",
              "    </tr>\n",
              "    <tr>\n",
              "      <th>50%</th>\n",
              "      <td>18.000000</td>\n",
              "      <td>2319.500000</td>\n",
              "      <td>3.000000</td>\n",
              "      <td>3.000000</td>\n",
              "      <td>33.000000</td>\n",
              "      <td>1.000000</td>\n",
              "      <td>1.000000</td>\n",
              "      <td>1.000000</td>\n",
              "    </tr>\n",
              "    <tr>\n",
              "      <th>75%</th>\n",
              "      <td>24.000000</td>\n",
              "      <td>3972.250000</td>\n",
              "      <td>4.000000</td>\n",
              "      <td>4.000000</td>\n",
              "      <td>42.000000</td>\n",
              "      <td>2.000000</td>\n",
              "      <td>1.000000</td>\n",
              "      <td>2.000000</td>\n",
              "    </tr>\n",
              "    <tr>\n",
              "      <th>max</th>\n",
              "      <td>72.000000</td>\n",
              "      <td>18424.000000</td>\n",
              "      <td>4.000000</td>\n",
              "      <td>4.000000</td>\n",
              "      <td>75.000000</td>\n",
              "      <td>4.000000</td>\n",
              "      <td>2.000000</td>\n",
              "      <td>2.000000</td>\n",
              "    </tr>\n",
              "  </tbody>\n",
              "</table>\n",
              "</div>"
            ],
            "text/plain": [
              "       Duration in month  Credit amount  \\\n",
              "count        1000.000000    1000.000000   \n",
              "mean           20.903000    3271.258000   \n",
              "std            12.058814    2822.736876   \n",
              "min             4.000000     250.000000   \n",
              "25%            12.000000    1365.500000   \n",
              "50%            18.000000    2319.500000   \n",
              "75%            24.000000    3972.250000   \n",
              "max            72.000000   18424.000000   \n",
              "\n",
              "       Installment rate in percentage of disposable income  \\\n",
              "count                                        1000.000000     \n",
              "mean                                            2.973000     \n",
              "std                                             1.118715     \n",
              "min                                             1.000000     \n",
              "25%                                             2.000000     \n",
              "50%                                             3.000000     \n",
              "75%                                             4.000000     \n",
              "max                                             4.000000     \n",
              "\n",
              "       Present residence since  Age in years  \\\n",
              "count              1000.000000   1000.000000   \n",
              "mean                  2.845000     35.546000   \n",
              "std                   1.103718     11.375469   \n",
              "min                   1.000000     19.000000   \n",
              "25%                   2.000000     27.000000   \n",
              "50%                   3.000000     33.000000   \n",
              "75%                   4.000000     42.000000   \n",
              "max                   4.000000     75.000000   \n",
              "\n",
              "       Number of existing credits at this bank  \\\n",
              "count                              1000.000000   \n",
              "mean                                  1.407000   \n",
              "std                                   0.577654   \n",
              "min                                   1.000000   \n",
              "25%                                   1.000000   \n",
              "50%                                   1.000000   \n",
              "75%                                   2.000000   \n",
              "max                                   4.000000   \n",
              "\n",
              "       Number of people being liable to provide maintenance for  Cost Matrix  \n",
              "count                                        1000.000000         1000.000000  \n",
              "mean                                            1.155000            1.300000  \n",
              "std                                             0.362086            0.458487  \n",
              "min                                             1.000000            1.000000  \n",
              "25%                                             1.000000            1.000000  \n",
              "50%                                             1.000000            1.000000  \n",
              "75%                                             1.000000            2.000000  \n",
              "max                                             2.000000            2.000000  "
            ]
          },
          "execution_count": 39,
          "metadata": {},
          "output_type": "execute_result"
        }
      ],
      "source": [
        "df.describe()"
      ]
    },
    {
      "cell_type": "code",
      "execution_count": null,
      "metadata": {
        "id": "KhP6Sx6-bliZ"
      },
      "outputs": [],
      "source": [
        "import matplotlib.pyplot as plt"
      ]
    },
    {
      "cell_type": "code",
      "execution_count": null,
      "metadata": {
        "id": "XDooLvjXbliZ",
        "outputId": "78dde6bf-5a57-4e29-81e1-15cb08213e64"
      },
      "outputs": [
        {
          "data": {
            "image/png": "[encoded data removed]",
            "text/plain": [
              "<Figure size 432x288 with 1 Axes>"
            ]
          },
          "metadata": {
            "needs_background": "light"
          },
          "output_type": "display_data"
        }
      ],
      "source": [
        "hist = df['Duration in month'].hist()\n",
        "\n",
        "plt.savefig(\"pandas_hist_01.png\", bbox_inches='tight', dpi=100)"
      ]
    },
    {
      "cell_type": "code",
      "execution_count": null,
      "metadata": {
        "id": "YxBQljiablia",
        "outputId": "1a6ac6ad-86ba-4b12-ec7b-6a5241e2b8e4"
      },
      "outputs": [
        {
          "data": {
            "image/png": "[encoded data removed]",
            "text/plain": [
              "<Figure size 432x288 with 1 Axes>"
            ]
          },
          "metadata": {
            "needs_background": "light"
          },
          "output_type": "display_data"
        }
      ],
      "source": [
        "hist = df['Credit amount'].hist()\n",
        "\n",
        "plt.savefig(\"pandas_hist_01.png\", bbox_inches='tight', dpi=100)"
      ]
    },
    {
      "cell_type": "code",
      "execution_count": null,
      "metadata": {
        "id": "QUtAB2fhblib",
        "outputId": "36e4afde-b470-4c07-9a09-814125df77cb"
      },
      "outputs": [
        {
          "data": {
            "image/png": "[encoded data removed]",
            "text/plain": [
              "<Figure size 432x288 with 1 Axes>"
            ]
          },
          "metadata": {
            "needs_background": "light"
          },
          "output_type": "display_data"
        }
      ],
      "source": [
        "hist = df['Installment rate in percentage of disposable income'].hist()\n",
        "\n",
        "plt.savefig(\"pandas_hist_01.png\", bbox_inches='tight', dpi=100)"
      ]
    },
    {
      "cell_type": "code",
      "execution_count": null,
      "metadata": {
        "id": "BKBEPCS5blib",
        "outputId": "7251d1c1-927b-4836-8479-c22a37533539"
      },
      "outputs": [
        {
          "data": {
            "image/png": "[encoded data removed]",
            "text/plain": [
              "<Figure size 432x288 with 1 Axes>"
            ]
          },
          "metadata": {
            "needs_background": "light"
          },
          "output_type": "display_data"
        }
      ],
      "source": [
        "hist = df['Present residence since'].hist()\n",
        "\n",
        "plt.savefig(\"pandas_hist_01.png\", bbox_inches='tight', dpi=100)"
      ]
    },
    {
      "cell_type": "code",
      "execution_count": null,
      "metadata": {
        "id": "FmXdFrn3blic",
        "outputId": "571cb6f3-785a-4460-b051-d62b97513e6a"
      },
      "outputs": [
        {
          "data": {
            "image/png": "[encoded data removed]",
            "text/plain": [
              "<Figure size 432x288 with 1 Axes>"
            ]
          },
          "metadata": {
            "needs_background": "light"
          },
          "output_type": "display_data"
        }
      ],
      "source": [
        "hist = df['Age in years'].hist()\n",
        "\n",
        "plt.savefig(\"pandas_hist_01.png\", bbox_inches='tight', dpi=100)"
      ]
    },
    {
      "cell_type": "code",
      "execution_count": null,
      "metadata": {
        "id": "N0BbxKeGblic",
        "outputId": "339484cb-89df-4aab-9cf0-08be2081c15c"
      },
      "outputs": [
        {
          "data": {
            "image/png": "[encoded data removed]",
            "text/plain": [
              "<Figure size 432x288 with 1 Axes>"
            ]
          },
          "metadata": {
            "needs_background": "light"
          },
          "output_type": "display_data"
        }
      ],
      "source": [
        "hist = df['Number of existing credits at this bank'].hist()\n",
        "\n",
        "plt.savefig(\"pandas_hist_01.png\", bbox_inches='tight', dpi=100)"
      ]
    },
    {
      "cell_type": "code",
      "execution_count": null,
      "metadata": {
        "id": "imnJBzThblif",
        "outputId": "49d4257e-cfc1-4d4c-ce20-653a8b9c48ba"
      },
      "outputs": [
        {
          "data": {
            "image/png": "[encoded data removed]",
            "text/plain": [
              "<Figure size 432x288 with 1 Axes>"
            ]
          },
          "metadata": {
            "needs_background": "light"
          },
          "output_type": "display_data"
        }
      ],
      "source": [
        "hist = df['Number of people being liable to provide maintenance for'].hist()\n",
        "\n",
        "plt.savefig(\"pandas_hist_01.png\", bbox_inches='tight', dpi=100)"
      ]
    },
    {
      "cell_type": "code",
      "execution_count": null,
      "metadata": {
        "id": "WZG0H6xrblig",
        "outputId": "e454f70a-48fb-4f7f-c65c-8d2812059005"
      },
      "outputs": [
        {
          "data": {
            "image/png": "[encoded data removed]",
            "text/plain": [
              "<Figure size 432x288 with 1 Axes>"
            ]
          },
          "metadata": {
            "needs_background": "light"
          },
          "output_type": "display_data"
        }
      ],
      "source": [
        "hist = df['Cost Matrix'].hist()\n",
        "\n",
        "plt.savefig(\"pandas_hist_01.png\", bbox_inches='tight', dpi=100)"
      ]
    },
    {
      "cell_type": "code",
      "execution_count": null,
      "metadata": {
        "id": "s3XaEgGTblig",
        "outputId": "d3fc434b-29fc-4294-c078-ae84a23b5ef8"
      },
      "outputs": [
        {
          "data": {
            "text/html": [
              "<div>\n",
              "<style scoped>\n",
              "    .dataframe tbody tr th:only-of-type {\n",
              "        vertical-align: middle;\n",
              "    }\n",
              "\n",
              "    .dataframe tbody tr th {\n",
              "        vertical-align: top;\n",
              "    }\n",
              "\n",
              "    .dataframe thead th {\n",
              "        text-align: right;\n",
              "    }\n",
              "</style>\n",
              "<table border=\"1\" class=\"dataframe\">\n",
              "  <thead>\n",
              "    <tr style=\"text-align: right;\">\n",
              "      <th></th>\n",
              "      <th>Duration in month</th>\n",
              "      <th>Credit amount</th>\n",
              "      <th>Installment rate in percentage of disposable income</th>\n",
              "      <th>Present residence since</th>\n",
              "      <th>Age in years</th>\n",
              "      <th>Number of existing credits at this bank</th>\n",
              "      <th>Number of people being liable to provide maintenance for</th>\n",
              "    </tr>\n",
              "  </thead>\n",
              "  <tbody>\n",
              "    <tr>\n",
              "      <th>0</th>\n",
              "      <td>6</td>\n",
              "      <td>1169</td>\n",
              "      <td>4</td>\n",
              "      <td>4</td>\n",
              "      <td>67</td>\n",
              "      <td>2</td>\n",
              "      <td>1</td>\n",
              "    </tr>\n",
              "    <tr>\n",
              "      <th>1</th>\n",
              "      <td>48</td>\n",
              "      <td>5951</td>\n",
              "      <td>2</td>\n",
              "      <td>2</td>\n",
              "      <td>22</td>\n",
              "      <td>1</td>\n",
              "      <td>1</td>\n",
              "    </tr>\n",
              "    <tr>\n",
              "      <th>2</th>\n",
              "      <td>12</td>\n",
              "      <td>2096</td>\n",
              "      <td>2</td>\n",
              "      <td>3</td>\n",
              "      <td>49</td>\n",
              "      <td>1</td>\n",
              "      <td>2</td>\n",
              "    </tr>\n",
              "    <tr>\n",
              "      <th>3</th>\n",
              "      <td>42</td>\n",
              "      <td>7882</td>\n",
              "      <td>2</td>\n",
              "      <td>4</td>\n",
              "      <td>45</td>\n",
              "      <td>1</td>\n",
              "      <td>2</td>\n",
              "    </tr>\n",
              "    <tr>\n",
              "      <th>4</th>\n",
              "      <td>24</td>\n",
              "      <td>4870</td>\n",
              "      <td>3</td>\n",
              "      <td>4</td>\n",
              "      <td>53</td>\n",
              "      <td>2</td>\n",
              "      <td>2</td>\n",
              "    </tr>\n",
              "    <tr>\n",
              "      <th>...</th>\n",
              "      <td>...</td>\n",
              "      <td>...</td>\n",
              "      <td>...</td>\n",
              "      <td>...</td>\n",
              "      <td>...</td>\n",
              "      <td>...</td>\n",
              "      <td>...</td>\n",
              "    </tr>\n",
              "    <tr>\n",
              "      <th>995</th>\n",
              "      <td>12</td>\n",
              "      <td>1736</td>\n",
              "      <td>3</td>\n",
              "      <td>4</td>\n",
              "      <td>31</td>\n",
              "      <td>1</td>\n",
              "      <td>1</td>\n",
              "    </tr>\n",
              "    <tr>\n",
              "      <th>996</th>\n",
              "      <td>30</td>\n",
              "      <td>3857</td>\n",
              "      <td>4</td>\n",
              "      <td>4</td>\n",
              "      <td>40</td>\n",
              "      <td>1</td>\n",
              "      <td>1</td>\n",
              "    </tr>\n",
              "    <tr>\n",
              "      <th>997</th>\n",
              "      <td>12</td>\n",
              "      <td>804</td>\n",
              "      <td>4</td>\n",
              "      <td>4</td>\n",
              "      <td>38</td>\n",
              "      <td>1</td>\n",
              "      <td>1</td>\n",
              "    </tr>\n",
              "    <tr>\n",
              "      <th>998</th>\n",
              "      <td>45</td>\n",
              "      <td>1845</td>\n",
              "      <td>4</td>\n",
              "      <td>4</td>\n",
              "      <td>23</td>\n",
              "      <td>1</td>\n",
              "      <td>1</td>\n",
              "    </tr>\n",
              "    <tr>\n",
              "      <th>999</th>\n",
              "      <td>45</td>\n",
              "      <td>4576</td>\n",
              "      <td>3</td>\n",
              "      <td>4</td>\n",
              "      <td>27</td>\n",
              "      <td>1</td>\n",
              "      <td>1</td>\n",
              "    </tr>\n",
              "  </tbody>\n",
              "</table>\n",
              "<p>1000 rows × 7 columns</p>\n",
              "</div>"
            ],
            "text/plain": [
              "     Duration in month  Credit amount  \\\n",
              "0                    6           1169   \n",
              "1                   48           5951   \n",
              "2                   12           2096   \n",
              "3                   42           7882   \n",
              "4                   24           4870   \n",
              "..                 ...            ...   \n",
              "995                 12           1736   \n",
              "996                 30           3857   \n",
              "997                 12            804   \n",
              "998                 45           1845   \n",
              "999                 45           4576   \n",
              "\n",
              "     Installment rate in percentage of disposable income  \\\n",
              "0                                                    4     \n",
              "1                                                    2     \n",
              "2                                                    2     \n",
              "3                                                    2     \n",
              "4                                                    3     \n",
              "..                                                 ...     \n",
              "995                                                  3     \n",
              "996                                                  4     \n",
              "997                                                  4     \n",
              "998                                                  4     \n",
              "999                                                  3     \n",
              "\n",
              "     Present residence since  Age in years  \\\n",
              "0                          4            67   \n",
              "1                          2            22   \n",
              "2                          3            49   \n",
              "3                          4            45   \n",
              "4                          4            53   \n",
              "..                       ...           ...   \n",
              "995                        4            31   \n",
              "996                        4            40   \n",
              "997                        4            38   \n",
              "998                        4            23   \n",
              "999                        4            27   \n",
              "\n",
              "     Number of existing credits at this bank  \\\n",
              "0                                          2   \n",
              "1                                          1   \n",
              "2                                          1   \n",
              "3                                          1   \n",
              "4                                          2   \n",
              "..                                       ...   \n",
              "995                                        1   \n",
              "996                                        1   \n",
              "997                                        1   \n",
              "998                                        1   \n",
              "999                                        1   \n",
              "\n",
              "     Number of people being liable to provide maintenance for  \n",
              "0                                                    1         \n",
              "1                                                    1         \n",
              "2                                                    2         \n",
              "3                                                    2         \n",
              "4                                                    2         \n",
              "..                                                 ...         \n",
              "995                                                  1         \n",
              "996                                                  1         \n",
              "997                                                  1         \n",
              "998                                                  1         \n",
              "999                                                  1         \n",
              "\n",
              "[1000 rows x 7 columns]"
            ]
          },
          "execution_count": 4,
          "metadata": {},
          "output_type": "execute_result"
        }
      ],
      "source": [
        "\n",
        "df = df[['Duration in month','Credit amount','Installment rate in percentage of disposable income','Present residence since','Age in years','Number of existing credits at this bank','Number of people being liable to provide maintenance for']]\n",
        "df\n"
      ]
    },
    {
      "cell_type": "code",
      "execution_count": null,
      "metadata": {
        "id": "h4toNENzblih"
      },
      "outputs": [],
      "source": [
        "import seaborn as sns\n",
        "import matplotlib.pyplot as plt\n",
        "sns.pairplot(df['Duration in month'], kind=\"scatter\")\n",
        "plt.show()"
      ]
    },
    {
      "cell_type": "code",
      "execution_count": null,
      "metadata": {
        "id": "lY-_tqKBblih",
        "outputId": "175125b1-f165-4340-e27b-659a4bfb6dab"
      },
      "outputs": [
        {
          "data": {
            "text/html": [
              "<div>\n",
              "<style scoped>\n",
              "    .dataframe tbody tr th:only-of-type {\n",
              "        vertical-align: middle;\n",
              "    }\n",
              "\n",
              "    .dataframe tbody tr th {\n",
              "        vertical-align: top;\n",
              "    }\n",
              "\n",
              "    .dataframe thead th {\n",
              "        text-align: right;\n",
              "    }\n",
              "</style>\n",
              "<table border=\"1\" class=\"dataframe\">\n",
              "  <thead>\n",
              "    <tr style=\"text-align: right;\">\n",
              "      <th></th>\n",
              "      <th>Duration in month</th>\n",
              "      <th>Credit amount</th>\n",
              "      <th>Installment rate in percentage of disposable income</th>\n",
              "      <th>Present residence since</th>\n",
              "      <th>Age in years</th>\n",
              "      <th>Number of existing credits at this bank</th>\n",
              "      <th>Number of people being liable to provide maintenance for</th>\n",
              "      <th>Cost Matrix</th>\n",
              "    </tr>\n",
              "  </thead>\n",
              "  <tbody>\n",
              "    <tr>\n",
              "      <th>Duration in month</th>\n",
              "      <td>1.000000</td>\n",
              "      <td>0.624984</td>\n",
              "      <td>0.074749</td>\n",
              "      <td>0.034067</td>\n",
              "      <td>-0.036136</td>\n",
              "      <td>-0.011284</td>\n",
              "      <td>-0.023834</td>\n",
              "      <td>0.214927</td>\n",
              "    </tr>\n",
              "    <tr>\n",
              "      <th>Credit amount</th>\n",
              "      <td>0.624984</td>\n",
              "      <td>1.000000</td>\n",
              "      <td>-0.271316</td>\n",
              "      <td>0.028926</td>\n",
              "      <td>0.032716</td>\n",
              "      <td>0.020795</td>\n",
              "      <td>0.017142</td>\n",
              "      <td>0.154739</td>\n",
              "    </tr>\n",
              "    <tr>\n",
              "      <th>Installment rate in percentage of disposable income</th>\n",
              "      <td>0.074749</td>\n",
              "      <td>-0.271316</td>\n",
              "      <td>1.000000</td>\n",
              "      <td>0.049302</td>\n",
              "      <td>0.058266</td>\n",
              "      <td>0.021669</td>\n",
              "      <td>-0.071207</td>\n",
              "      <td>0.072404</td>\n",
              "    </tr>\n",
              "    <tr>\n",
              "      <th>Present residence since</th>\n",
              "      <td>0.034067</td>\n",
              "      <td>0.028926</td>\n",
              "      <td>0.049302</td>\n",
              "      <td>1.000000</td>\n",
              "      <td>0.266419</td>\n",
              "      <td>0.089625</td>\n",
              "      <td>0.042643</td>\n",
              "      <td>0.002967</td>\n",
              "    </tr>\n",
              "    <tr>\n",
              "      <th>Age in years</th>\n",
              "      <td>-0.036136</td>\n",
              "      <td>0.032716</td>\n",
              "      <td>0.058266</td>\n",
              "      <td>0.266419</td>\n",
              "      <td>1.000000</td>\n",
              "      <td>0.149254</td>\n",
              "      <td>0.118201</td>\n",
              "      <td>-0.091127</td>\n",
              "    </tr>\n",
              "    <tr>\n",
              "      <th>Number of existing credits at this bank</th>\n",
              "      <td>-0.011284</td>\n",
              "      <td>0.020795</td>\n",
              "      <td>0.021669</td>\n",
              "      <td>0.089625</td>\n",
              "      <td>0.149254</td>\n",
              "      <td>1.000000</td>\n",
              "      <td>0.109667</td>\n",
              "      <td>-0.045732</td>\n",
              "    </tr>\n",
              "    <tr>\n",
              "      <th>Number of people being liable to provide maintenance for</th>\n",
              "      <td>-0.023834</td>\n",
              "      <td>0.017142</td>\n",
              "      <td>-0.071207</td>\n",
              "      <td>0.042643</td>\n",
              "      <td>0.118201</td>\n",
              "      <td>0.109667</td>\n",
              "      <td>1.000000</td>\n",
              "      <td>-0.003015</td>\n",
              "    </tr>\n",
              "    <tr>\n",
              "      <th>Cost Matrix</th>\n",
              "      <td>0.214927</td>\n",
              "      <td>0.154739</td>\n",
              "      <td>0.072404</td>\n",
              "      <td>0.002967</td>\n",
              "      <td>-0.091127</td>\n",
              "      <td>-0.045732</td>\n",
              "      <td>-0.003015</td>\n",
              "      <td>1.000000</td>\n",
              "    </tr>\n",
              "  </tbody>\n",
              "</table>\n",
              "</div>"
            ],
            "text/plain": [
              "                                                    Duration in month  \\\n",
              "Duration in month                                            1.000000   \n",
              "Credit amount                                                0.624984   \n",
              "Installment rate in percentage of disposable in...           0.074749   \n",
              "Present residence since                                      0.034067   \n",
              "Age in years                                                -0.036136   \n",
              "Number of existing credits at this bank                     -0.011284   \n",
              "Number of people being liable to provide mainte...          -0.023834   \n",
              "Cost Matrix                                                  0.214927   \n",
              "\n",
              "                                                    Credit amount  \\\n",
              "Duration in month                                        0.624984   \n",
              "Credit amount                                            1.000000   \n",
              "Installment rate in percentage of disposable in...      -0.271316   \n",
              "Present residence since                                  0.028926   \n",
              "Age in years                                             0.032716   \n",
              "Number of existing credits at this bank                  0.020795   \n",
              "Number of people being liable to provide mainte...       0.017142   \n",
              "Cost Matrix                                              0.154739   \n",
              "\n",
              "                                                    Installment rate in percentage of disposable income  \\\n",
              "Duration in month                                                                            0.074749     \n",
              "Credit amount                                                                               -0.271316     \n",
              "Installment rate in percentage of disposable in...                                           1.000000     \n",
              "Present residence since                                                                      0.049302     \n",
              "Age in years                                                                                 0.058266     \n",
              "Number of existing credits at this bank                                                      0.021669     \n",
              "Number of people being liable to provide mainte...                                          -0.071207     \n",
              "Cost Matrix                                                                                  0.072404     \n",
              "\n",
              "                                                    Present residence since  \\\n",
              "Duration in month                                                  0.034067   \n",
              "Credit amount                                                      0.028926   \n",
              "Installment rate in percentage of disposable in...                 0.049302   \n",
              "Present residence since                                            1.000000   \n",
              "Age in years                                                       0.266419   \n",
              "Number of existing credits at this bank                            0.089625   \n",
              "Number of people being liable to provide mainte...                 0.042643   \n",
              "Cost Matrix                                                        0.002967   \n",
              "\n",
              "                                                    Age in years  \\\n",
              "Duration in month                                      -0.036136   \n",
              "Credit amount                                           0.032716   \n",
              "Installment rate in percentage of disposable in...      0.058266   \n",
              "Present residence since                                 0.266419   \n",
              "Age in years                                            1.000000   \n",
              "Number of existing credits at this bank                 0.149254   \n",
              "Number of people being liable to provide mainte...      0.118201   \n",
              "Cost Matrix                                            -0.091127   \n",
              "\n",
              "                                                    Number of existing credits at this bank  \\\n",
              "Duration in month                                                                 -0.011284   \n",
              "Credit amount                                                                      0.020795   \n",
              "Installment rate in percentage of disposable in...                                 0.021669   \n",
              "Present residence since                                                            0.089625   \n",
              "Age in years                                                                       0.149254   \n",
              "Number of existing credits at this bank                                            1.000000   \n",
              "Number of people being liable to provide mainte...                                 0.109667   \n",
              "Cost Matrix                                                                       -0.045732   \n",
              "\n",
              "                                                    Number of people being liable to provide maintenance for  \\\n",
              "Duration in month                                                                           -0.023834          \n",
              "Credit amount                                                                                0.017142          \n",
              "Installment rate in percentage of disposable in...                                          -0.071207          \n",
              "Present residence since                                                                      0.042643          \n",
              "Age in years                                                                                 0.118201          \n",
              "Number of existing credits at this bank                                                      0.109667          \n",
              "Number of people being liable to provide mainte...                                           1.000000          \n",
              "Cost Matrix                                                                                 -0.003015          \n",
              "\n",
              "                                                    Cost Matrix  \n",
              "Duration in month                                      0.214927  \n",
              "Credit amount                                          0.154739  \n",
              "Installment rate in percentage of disposable in...     0.072404  \n",
              "Present residence since                                0.002967  \n",
              "Age in years                                          -0.091127  \n",
              "Number of existing credits at this bank               -0.045732  \n",
              "Number of people being liable to provide mainte...    -0.003015  \n",
              "Cost Matrix                                            1.000000  "
            ]
          },
          "execution_count": 3,
          "metadata": {},
          "output_type": "execute_result"
        }
      ],
      "source": [
        "\n",
        "import numpy as np\n",
        "corr = data.corr()\n",
        "corr"
      ]
    },
    {
      "cell_type": "code",
      "execution_count": null,
      "metadata": {
        "id": "8q-r6sOVblii"
      },
      "outputs": [],
      "source": [
        "df['Cost Matrix'].value_counts()\n"
      ]
    },
    {
      "cell_type": "code",
      "execution_count": null,
      "metadata": {
        "id": "qoBZnT6Vblij",
        "outputId": "c77e162e-300f-4a01-8e6d-2f63eff0c6c4"
      },
      "outputs": [
        {
          "data": {
            "text/plain": [
              "<matplotlib.axes._subplots.AxesSubplot at 0x26ac4ef4c70>"
            ]
          },
          "execution_count": 288,
          "metadata": {},
          "output_type": "execute_result"
        },
        {
          "data": {
            "image/png": "[encoded data removed]",
            "text/plain": [
              "<Figure size 432x288 with 1 Axes>"
            ]
          },
          "metadata": {},
          "output_type": "display_data"
        }
      ],
      "source": [
        "# dataset is imbalanced\n",
        "df['Cost Matrix'].value_counts().plot.pie(autopct='%.2f')"
      ]
    },
    {
      "cell_type": "code",
      "execution_count": null,
      "metadata": {
        "id": "zKH2CLd3blij"
      },
      "outputs": [],
      "source": [
        "x = df.drop(['Cost Matrix'],axis =1)\n",
        "y = df['Cost Matrix']"
      ]
    },
    {
      "cell_type": "code",
      "execution_count": null,
      "metadata": {
        "id": "JLr-1D06blik",
        "outputId": "ae8380bd-57a0-413c-c622-eaaa28a59fdf"
      },
      "outputs": [
        {
          "name": "stdout",
          "output_type": "stream",
          "text": [
            "Requirement already up-to-date: imbalanced-learn in c:\\users\\mohsen\\anaconda3\\lib\\site-packages (0.8.1)\n",
            "Requirement already satisfied, skipping upgrade: numpy>=1.13.3 in c:\\users\\mohsen\\anaconda3\\lib\\site-packages (from imbalanced-learn) (1.18.5)\n",
            "Requirement already satisfied, skipping upgrade: joblib>=0.11 in c:\\users\\mohsen\\anaconda3\\lib\\site-packages (from imbalanced-learn) (0.16.0)\n",
            "Requirement already satisfied, skipping upgrade: scikit-learn>=0.24 in c:\\users\\mohsen\\anaconda3\\lib\\site-packages (from imbalanced-learn) (0.24.0)\n",
            "Requirement already satisfied, skipping upgrade: scipy>=0.19.1 in c:\\users\\mohsen\\anaconda3\\lib\\site-packages (from imbalanced-learn) (1.5.0)\n",
            "Requirement already satisfied, skipping upgrade: threadpoolctl>=2.0.0 in c:\\users\\mohsen\\anaconda3\\lib\\site-packages (from scikit-learn>=0.24->imbalanced-learn) (2.1.0)\n"
          ]
        }
      ],
      "source": [
        "!pip install -U imbalanced-learn"
      ]
    },
    {
      "cell_type": "code",
      "execution_count": null,
      "metadata": {
        "id": "TqxD0rYIblik",
        "outputId": "6a2ffeaf-2d55-4fa2-b043-57a095cbea27"
      },
      "outputs": [
        {
          "data": {
            "image/png": "[encoded data removed]",
            "text/plain": [
              "<Figure size 432x288 with 1 Axes>"
            ]
          },
          "metadata": {},
          "output_type": "display_data"
        }
      ],
      "source": [
        "# dataset becomes balanced\n",
        "import imblearn\n",
        "from imblearn.under_sampling import RandomUnderSampler\n",
        "rus = RandomUnderSampler(sampling_strategy=1)\n",
        "x_res,y_res=rus.fit_resample(x,y)\n",
        "ax= y_res.value_counts().plot.pie(autopct='%.2f')\n"
      ]
    },
    {
      "cell_type": "code",
      "execution_count": null,
      "metadata": {
        "id": "tRhlGT0Tblil"
      },
      "outputs": [],
      "source": [
        "X = x_res[['Duration in month','Credit amount','Installment rate in percentage of disposable income','Present residence since','Age in years','Number of existing credits at this bank','Number of people being liable to provide maintenance for']]"
      ]
    },
    {
      "cell_type": "code",
      "execution_count": null,
      "metadata": {
        "id": "Nqios2Q2blil",
        "outputId": "7ff945e6-327a-4ce2-ebfc-c5c2acb3d807"
      },
      "outputs": [
        {
          "data": {
            "text/html": [
              "<div>\n",
              "<style scoped>\n",
              "    .dataframe tbody tr th:only-of-type {\n",
              "        vertical-align: middle;\n",
              "    }\n",
              "\n",
              "    .dataframe tbody tr th {\n",
              "        vertical-align: top;\n",
              "    }\n",
              "\n",
              "    .dataframe thead th {\n",
              "        text-align: right;\n",
              "    }\n",
              "</style>\n",
              "<table border=\"1\" class=\"dataframe\">\n",
              "  <thead>\n",
              "    <tr style=\"text-align: right;\">\n",
              "      <th></th>\n",
              "      <th>Duration in month</th>\n",
              "      <th>Credit amount</th>\n",
              "      <th>Installment rate in percentage of disposable income</th>\n",
              "      <th>Present residence since</th>\n",
              "      <th>Age in years</th>\n",
              "      <th>Number of existing credits at this bank</th>\n",
              "      <th>Number of people being liable to provide maintenance for</th>\n",
              "    </tr>\n",
              "  </thead>\n",
              "  <tbody>\n",
              "    <tr>\n",
              "      <th>0</th>\n",
              "      <td>12</td>\n",
              "      <td>640</td>\n",
              "      <td>4</td>\n",
              "      <td>2</td>\n",
              "      <td>49</td>\n",
              "      <td>1</td>\n",
              "      <td>1</td>\n",
              "    </tr>\n",
              "    <tr>\n",
              "      <th>1</th>\n",
              "      <td>12</td>\n",
              "      <td>841</td>\n",
              "      <td>2</td>\n",
              "      <td>4</td>\n",
              "      <td>23</td>\n",
              "      <td>1</td>\n",
              "      <td>1</td>\n",
              "    </tr>\n",
              "    <tr>\n",
              "      <th>2</th>\n",
              "      <td>27</td>\n",
              "      <td>5190</td>\n",
              "      <td>4</td>\n",
              "      <td>4</td>\n",
              "      <td>48</td>\n",
              "      <td>4</td>\n",
              "      <td>2</td>\n",
              "    </tr>\n",
              "    <tr>\n",
              "      <th>3</th>\n",
              "      <td>11</td>\n",
              "      <td>2142</td>\n",
              "      <td>1</td>\n",
              "      <td>2</td>\n",
              "      <td>28</td>\n",
              "      <td>1</td>\n",
              "      <td>1</td>\n",
              "    </tr>\n",
              "    <tr>\n",
              "      <th>4</th>\n",
              "      <td>12</td>\n",
              "      <td>701</td>\n",
              "      <td>4</td>\n",
              "      <td>2</td>\n",
              "      <td>40</td>\n",
              "      <td>1</td>\n",
              "      <td>1</td>\n",
              "    </tr>\n",
              "    <tr>\n",
              "      <th>...</th>\n",
              "      <td>...</td>\n",
              "      <td>...</td>\n",
              "      <td>...</td>\n",
              "      <td>...</td>\n",
              "      <td>...</td>\n",
              "      <td>...</td>\n",
              "      <td>...</td>\n",
              "    </tr>\n",
              "    <tr>\n",
              "      <th>595</th>\n",
              "      <td>15</td>\n",
              "      <td>1264</td>\n",
              "      <td>2</td>\n",
              "      <td>2</td>\n",
              "      <td>25</td>\n",
              "      <td>1</td>\n",
              "      <td>1</td>\n",
              "    </tr>\n",
              "    <tr>\n",
              "      <th>596</th>\n",
              "      <td>30</td>\n",
              "      <td>8386</td>\n",
              "      <td>2</td>\n",
              "      <td>2</td>\n",
              "      <td>49</td>\n",
              "      <td>1</td>\n",
              "      <td>1</td>\n",
              "    </tr>\n",
              "    <tr>\n",
              "      <th>597</th>\n",
              "      <td>48</td>\n",
              "      <td>4844</td>\n",
              "      <td>3</td>\n",
              "      <td>2</td>\n",
              "      <td>33</td>\n",
              "      <td>1</td>\n",
              "      <td>1</td>\n",
              "    </tr>\n",
              "    <tr>\n",
              "      <th>598</th>\n",
              "      <td>36</td>\n",
              "      <td>8229</td>\n",
              "      <td>2</td>\n",
              "      <td>2</td>\n",
              "      <td>26</td>\n",
              "      <td>1</td>\n",
              "      <td>2</td>\n",
              "    </tr>\n",
              "    <tr>\n",
              "      <th>599</th>\n",
              "      <td>45</td>\n",
              "      <td>1845</td>\n",
              "      <td>4</td>\n",
              "      <td>4</td>\n",
              "      <td>23</td>\n",
              "      <td>1</td>\n",
              "      <td>1</td>\n",
              "    </tr>\n",
              "  </tbody>\n",
              "</table>\n",
              "<p>600 rows × 7 columns</p>\n",
              "</div>"
            ],
            "text/plain": [
              "     Duration in month  Credit amount  \\\n",
              "0                   12            640   \n",
              "1                   12            841   \n",
              "2                   27           5190   \n",
              "3                   11           2142   \n",
              "4                   12            701   \n",
              "..                 ...            ...   \n",
              "595                 15           1264   \n",
              "596                 30           8386   \n",
              "597                 48           4844   \n",
              "598                 36           8229   \n",
              "599                 45           1845   \n",
              "\n",
              "     Installment rate in percentage of disposable income  \\\n",
              "0                                                    4     \n",
              "1                                                    2     \n",
              "2                                                    4     \n",
              "3                                                    1     \n",
              "4                                                    4     \n",
              "..                                                 ...     \n",
              "595                                                  2     \n",
              "596                                                  2     \n",
              "597                                                  3     \n",
              "598                                                  2     \n",
              "599                                                  4     \n",
              "\n",
              "     Present residence since  Age in years  \\\n",
              "0                          2            49   \n",
              "1                          4            23   \n",
              "2                          4            48   \n",
              "3                          2            28   \n",
              "4                          2            40   \n",
              "..                       ...           ...   \n",
              "595                        2            25   \n",
              "596                        2            49   \n",
              "597                        2            33   \n",
              "598                        2            26   \n",
              "599                        4            23   \n",
              "\n",
              "     Number of existing credits at this bank  \\\n",
              "0                                          1   \n",
              "1                                          1   \n",
              "2                                          4   \n",
              "3                                          1   \n",
              "4                                          1   \n",
              "..                                       ...   \n",
              "595                                        1   \n",
              "596                                        1   \n",
              "597                                        1   \n",
              "598                                        1   \n",
              "599                                        1   \n",
              "\n",
              "     Number of people being liable to provide maintenance for  \n",
              "0                                                    1         \n",
              "1                                                    1         \n",
              "2                                                    2         \n",
              "3                                                    1         \n",
              "4                                                    1         \n",
              "..                                                 ...         \n",
              "595                                                  1         \n",
              "596                                                  1         \n",
              "597                                                  1         \n",
              "598                                                  2         \n",
              "599                                                  1         \n",
              "\n",
              "[600 rows x 7 columns]"
            ]
          },
          "execution_count": 293,
          "metadata": {},
          "output_type": "execute_result"
        }
      ],
      "source": [
        "X"
      ]
    },
    {
      "cell_type": "code",
      "execution_count": null,
      "metadata": {
        "id": "Uw9EcF_nblim",
        "outputId": "3622027d-25a5-45b8-e919-fa26b9bc271e"
      },
      "outputs": [
        {
          "name": "stdout",
          "output_type": "stream",
          "text": [
            "[[1.86915208e-02 9.96881107e-01 6.23050692e-03 ... 7.63237098e-02\n",
            "  1.55762673e-03 1.55762673e-03]\n",
            " [1.42617224e-02 9.99509044e-01 2.37695373e-03 ... 2.73349679e-02\n",
            "  1.18847687e-03 1.18847687e-03]\n",
            " [5.20201425e-03 9.99942740e-01 7.70668778e-04 ... 9.24802534e-03\n",
            "  7.70668778e-04 3.85334389e-04]\n",
            " ...\n",
            " [9.90844644e-03 9.99927387e-01 6.19277903e-04 ... 6.81205693e-03\n",
            "  2.06425968e-04 2.06425968e-04]\n",
            " [4.37470803e-03 9.99985344e-01 2.43039335e-04 ... 3.15951135e-03\n",
            "  1.21519667e-04 2.43039335e-04]\n",
            " [2.43809775e-02 9.99620078e-01 2.16719800e-03 ... 1.24613885e-02\n",
            "  5.41799500e-04 5.41799500e-04]]\n"
          ]
        }
      ],
      "source": [
        "# Normalize data set\n",
        "from sklearn import preprocessing\n",
        "X_normalised = preprocessing.normalize(X)\n",
        "print(X_normalised)\n"
      ]
    },
    {
      "cell_type": "code",
      "execution_count": null,
      "metadata": {
        "id": "vayoBo29blim"
      },
      "outputs": [],
      "source": [
        "import numpy as np\n",
        "import pandas as pd\n",
        "import matplotlib.pyplot as plt\n",
        "import seaborn as sns"
      ]
    },
    {
      "cell_type": "code",
      "execution_count": null,
      "metadata": {
        "id": "EnrYmHujblim",
        "outputId": "51b12ea0-e0e3-49d6-df41-468360037a98"
      },
      "outputs": [
        {
          "data": {
            "image/png": "[encoded data removed]",
            "text/plain": [
              "<Figure size 1152x360 with 2 Axes>"
            ]
          },
          "metadata": {
            "needs_background": "light"
          },
          "output_type": "display_data"
        }
      ],
      "source": [
        "import warnings\n",
        "warnings.filterwarnings('ignore')\n",
        "plt.figure(figsize=(16,5))\n",
        "plt.subplot(1,2,1)\n",
        "sns.distplot(df['Duration in month'])\n",
        "plt.subplot(1,2,2)\n",
        "sns.distplot(df['Duration in month'])\n",
        "plt.show()"
      ]
    },
    {
      "cell_type": "code",
      "execution_count": null,
      "metadata": {
        "id": "SNmCHAKYblin",
        "outputId": "a0941ba9-841b-4b4d-a3fc-18a66b2c7d0f"
      },
      "outputs": [
        {
          "data": {
            "text/plain": [
              "<matplotlib.axes._subplots.AxesSubplot at 0x26ac4fabf10>"
            ]
          },
          "execution_count": 297,
          "metadata": {},
          "output_type": "execute_result"
        },
        {
          "data": {
            "image/png": "[encoded data removed]",
            "text/plain": [
              "<Figure size 432x288 with 1 Axes>"
            ]
          },
          "metadata": {
            "needs_background": "light"
          },
          "output_type": "display_data"
        }
      ],
      "source": [
        "sns.boxplot(df['Duration in month'])"
      ]
    },
    {
      "cell_type": "code",
      "execution_count": null,
      "metadata": {
        "id": "-R-GyuTmblin",
        "outputId": "9122ea98-c5f7-416d-d0d2-ad47a8422e13"
      },
      "outputs": [
        {
          "data": {
            "image/png": "[encoded data removed]",
            "text/plain": [
              "<Figure size 1152x360 with 2 Axes>"
            ]
          },
          "metadata": {
            "needs_background": "light"
          },
          "output_type": "display_data"
        }
      ],
      "source": [
        "import warnings\n",
        "warnings.filterwarnings('ignore')\n",
        "plt.figure(figsize=(16,5))\n",
        "plt.subplot(1,2,1)\n",
        "sns.distplot(df['Credit amount'])\n",
        "plt.subplot(1,2,2)\n",
        "sns.distplot(df['Credit amount'])\n",
        "plt.show()"
      ]
    },
    {
      "cell_type": "code",
      "execution_count": null,
      "metadata": {
        "id": "X9eqdMsCblio",
        "outputId": "679678aa-e0e5-4d37-f970-341d6ed510ff"
      },
      "outputs": [
        {
          "data": {
            "text/plain": [
              "<matplotlib.axes._subplots.AxesSubplot at 0x26ac530a820>"
            ]
          },
          "execution_count": 299,
          "metadata": {},
          "output_type": "execute_result"
        },
        {
          "data": {
            "image/png": "[encoded data removed]",
            "text/plain": [
              "<Figure size 432x288 with 1 Axes>"
            ]
          },
          "metadata": {
            "needs_background": "light"
          },
          "output_type": "display_data"
        }
      ],
      "source": [
        "sns.boxplot(df['Credit amount'])"
      ]
    },
    {
      "cell_type": "code",
      "execution_count": null,
      "metadata": {
        "id": "rFdFFgBpblio",
        "outputId": "92749b3a-b058-4f67-abe4-978cf49edb3c"
      },
      "outputs": [
        {
          "data": {
            "image/png": "[encoded data removed]",
            "text/plain": [
              "<Figure size 1152x360 with 2 Axes>"
            ]
          },
          "metadata": {
            "needs_background": "light"
          },
          "output_type": "display_data"
        }
      ],
      "source": [
        "import warnings\n",
        "warnings.filterwarnings('ignore')\n",
        "plt.figure(figsize=(16,5))\n",
        "plt.subplot(1,2,1)\n",
        "sns.distplot(df['Installment rate in percentage of disposable income'])\n",
        "plt.subplot(1,2,2)\n",
        "sns.distplot(df['Installment rate in percentage of disposable income'])\n",
        "plt.show()"
      ]
    },
    {
      "cell_type": "code",
      "execution_count": null,
      "metadata": {
        "id": "x7C_jKs_blio",
        "outputId": "cf0f2a39-7696-4d38-d6c8-27949b6b07cb"
      },
      "outputs": [
        {
          "data": {
            "text/plain": [
              "<matplotlib.axes._subplots.AxesSubplot at 0x26ac5459ee0>"
            ]
          },
          "execution_count": 301,
          "metadata": {},
          "output_type": "execute_result"
        },
        {
          "data": {
            "image/png": "[encoded data removed]",
            "text/plain": [
              "<Figure size 432x288 with 1 Axes>"
            ]
          },
          "metadata": {
            "needs_background": "light"
          },
          "output_type": "display_data"
        }
      ],
      "source": [
        "sns.boxplot(df['Installment rate in percentage of disposable income'])"
      ]
    },
    {
      "cell_type": "code",
      "execution_count": null,
      "metadata": {
        "id": "xoGF3uC3blip",
        "outputId": "e8d1e763-66f2-4daf-8b04-2afc572c46ef"
      },
      "outputs": [
        {
          "data": {
            "image/png": "[encoded data removed]",
            "text/plain": [
              "<Figure size 1152x360 with 2 Axes>"
            ]
          },
          "metadata": {
            "needs_background": "light"
          },
          "output_type": "display_data"
        }
      ],
      "source": [
        "import warnings\n",
        "warnings.filterwarnings('ignore')\n",
        "plt.figure(figsize=(16,5))\n",
        "plt.subplot(1,2,1)\n",
        "sns.distplot(df['Present residence since'])\n",
        "plt.subplot(1,2,2)\n",
        "sns.distplot(df['Present residence since'])\n",
        "plt.show()"
      ]
    },
    {
      "cell_type": "code",
      "execution_count": null,
      "metadata": {
        "id": "DVJ73k8qblip",
        "outputId": "cd9ec576-f857-4528-b5b2-ab2f68592e44"
      },
      "outputs": [
        {
          "data": {
            "text/plain": [
              "<matplotlib.axes._subplots.AxesSubplot at 0x26ac6a38c40>"
            ]
          },
          "execution_count": 303,
          "metadata": {},
          "output_type": "execute_result"
        },
        {
          "data": {
            "image/png": "[encoded data removed]",
            "text/plain": [
              "<Figure size 432x288 with 1 Axes>"
            ]
          },
          "metadata": {
            "needs_background": "light"
          },
          "output_type": "display_data"
        }
      ],
      "source": [
        "sns.boxplot(df['Present residence since'])"
      ]
    },
    {
      "cell_type": "code",
      "execution_count": null,
      "metadata": {
        "id": "mN3t2cuDbliq",
        "outputId": "fe6a904b-5c2f-4848-9ba6-e2e7fe80b66e"
      },
      "outputs": [
        {
          "data": {
            "image/png": "[encoded data removed]",
            "text/plain": [
              "<Figure size 1152x360 with 2 Axes>"
            ]
          },
          "metadata": {
            "needs_background": "light"
          },
          "output_type": "display_data"
        }
      ],
      "source": [
        "import warnings\n",
        "warnings.filterwarnings('ignore')\n",
        "plt.figure(figsize=(16,5))\n",
        "plt.subplot(1,2,1)\n",
        "sns.distplot(df['Age in years'])\n",
        "plt.subplot(1,2,2)\n",
        "sns.distplot(df['Age in years'])\n",
        "plt.show()"
      ]
    },
    {
      "cell_type": "code",
      "execution_count": null,
      "metadata": {
        "id": "fCDzOshhbliq",
        "outputId": "ae9fe335-ad6f-49ea-fdac-a9b813269ecd"
      },
      "outputs": [
        {
          "data": {
            "text/plain": [
              "<matplotlib.axes._subplots.AxesSubplot at 0x26ac6d89df0>"
            ]
          },
          "execution_count": 305,
          "metadata": {},
          "output_type": "execute_result"
        },
        {
          "data": {
            "image/png": "[encoded data removed]",
            "text/plain": [
              "<Figure size 432x288 with 1 Axes>"
            ]
          },
          "metadata": {
            "needs_background": "light"
          },
          "output_type": "display_data"
        }
      ],
      "source": [
        "sns.boxplot(df['Age in years'])"
      ]
    },
    {
      "cell_type": "code",
      "execution_count": null,
      "metadata": {
        "id": "yO31RdSwblir",
        "outputId": "25ef995e-5ee2-4fa4-918f-7178787f512d"
      },
      "outputs": [
        {
          "data": {
            "image/png": "[encoded data removed]",
            "text/plain": [
              "<Figure size 1152x360 with 2 Axes>"
            ]
          },
          "metadata": {
            "needs_background": "light"
          },
          "output_type": "display_data"
        }
      ],
      "source": [
        "import warnings\n",
        "warnings.filterwarnings('ignore')\n",
        "plt.figure(figsize=(16,5))\n",
        "plt.subplot(1,2,1)\n",
        "sns.distplot(df['Number of existing credits at this bank'])\n",
        "plt.subplot(1,2,2)\n",
        "sns.distplot(df['Number of existing credits at this bank'])\n",
        "plt.show()"
      ]
    },
    {
      "cell_type": "code",
      "execution_count": null,
      "metadata": {
        "id": "JKWBX7OZblir",
        "outputId": "79b9d7c4-f7c1-4f63-ef49-82ee703917a1"
      },
      "outputs": [
        {
          "data": {
            "text/plain": [
              "<matplotlib.axes._subplots.AxesSubplot at 0x26ac6fb4850>"
            ]
          },
          "execution_count": 307,
          "metadata": {},
          "output_type": "execute_result"
        },
        {
          "data": {
            "image/png": "[encoded data removed]",
            "text/plain": [
              "<Figure size 432x288 with 1 Axes>"
            ]
          },
          "metadata": {
            "needs_background": "light"
          },
          "output_type": "display_data"
        }
      ],
      "source": [
        "sns.boxplot(df['Number of existing credits at this bank'])"
      ]
    },
    {
      "cell_type": "code",
      "execution_count": null,
      "metadata": {
        "id": "iUno8WxAblir",
        "outputId": "12074bdf-5a98-4c41-b2c6-b4c380be7b7d"
      },
      "outputs": [
        {
          "ename": "SyntaxError",
          "evalue": "invalid syntax (<ipython-input-308-b2d39e46d0bf>, line 1)",
          "output_type": "error",
          "traceback": [
            "\u001b[1;36m  File \u001b[1;32m\"<ipython-input-308-b2d39e46d0bf>\"\u001b[1;36m, line \u001b[1;32m1\u001b[0m\n\u001b[1;33m    Number of people being liable to provide maintenance for\u001b[0m\n\u001b[1;37m           ^\u001b[0m\n\u001b[1;31mSyntaxError\u001b[0m\u001b[1;31m:\u001b[0m invalid syntax\n"
          ]
        }
      ],
      "source": [
        "Number of people being liable to provide maintenance for"
      ]
    },
    {
      "cell_type": "code",
      "execution_count": null,
      "metadata": {
        "id": "fQzil4O2blis",
        "outputId": "25d6bbd7-23e7-4ca2-96b1-279cb2eeca38"
      },
      "outputs": [
        {
          "data": {
            "image/png": "[encoded data removed]",
            "text/plain": [
              "<Figure size 1152x360 with 2 Axes>"
            ]
          },
          "metadata": {
            "needs_background": "light"
          },
          "output_type": "display_data"
        }
      ],
      "source": [
        "import warnings\n",
        "warnings.filterwarnings('ignore')\n",
        "plt.figure(figsize=(16,5))\n",
        "plt.subplot(1,2,1)\n",
        "sns.distplot(df['Number of people being liable to provide maintenance for'])\n",
        "plt.subplot(1,2,2)\n",
        "sns.distplot(df['Number of people being liable to provide maintenance for'])\n",
        "plt.show()"
      ]
    },
    {
      "cell_type": "code",
      "execution_count": null,
      "metadata": {
        "id": "iQA8WBh9blis",
        "outputId": "b32b5f29-233b-4d4c-b720-179ff094f48b"
      },
      "outputs": [
        {
          "data": {
            "text/plain": [
              "<matplotlib.axes._subplots.AxesSubplot at 0x26ac72e4460>"
            ]
          },
          "execution_count": 310,
          "metadata": {},
          "output_type": "execute_result"
        },
        {
          "data": {
            "image/png": "[encoded data removed]",
            "text/plain": [
              "<Figure size 432x288 with 1 Axes>"
            ]
          },
          "metadata": {
            "needs_background": "light"
          },
          "output_type": "display_data"
        }
      ],
      "source": [
        "sns.boxplot(df['Number of people being liable to provide maintenance for'])"
      ]
    },
    {
      "cell_type": "code",
      "execution_count": null,
      "metadata": {
        "id": "QjtJUQmCbliu",
        "outputId": "4a618a84-1127-48ed-85ab-f9943029855d"
      },
      "outputs": [
        {
          "name": "stdout",
          "output_type": "stream",
          "text": [
            "<class 'pandas.core.frame.DataFrame'>\n",
            "RangeIndex: 1000 entries, 0 to 999\n",
            "Data columns (total 21 columns):\n",
            " #   Column                                                    Non-Null Count  Dtype \n",
            "---  ------                                                    --------------  ----- \n",
            " 0   Status of existing checking account                       1000 non-null   object\n",
            " 1   Duration in month                                         1000 non-null   int64 \n",
            " 2   Credit history                                            1000 non-null   object\n",
            " 3   Purpose                                                   1000 non-null   object\n",
            " 4   Credit amount                                             1000 non-null   int64 \n",
            " 5   Savings account/bonds                                     1000 non-null   object\n",
            " 6   Present employment since                                  1000 non-null   object\n",
            " 7   Installment rate in percentage of disposable income       1000 non-null   int64 \n",
            " 8   Personal status and sex                                   1000 non-null   object\n",
            " 9   Other debtors / guarantors                                1000 non-null   object\n",
            " 10  Present residence since                                   1000 non-null   int64 \n",
            " 11  Property                                                  1000 non-null   object\n",
            " 12  Age in years                                              1000 non-null   int64 \n",
            " 13        Other installment plans                             1000 non-null   object\n",
            " 14  Housing                                                   1000 non-null   object\n",
            " 15  Number of existing credits at this bank                   1000 non-null   int64 \n",
            " 16  Job                                                       1000 non-null   object\n",
            " 17  Number of people being liable to provide maintenance for  1000 non-null   int64 \n",
            " 18  Telephone                                                 1000 non-null   object\n",
            " 19  foreign worker                                            1000 non-null   object\n",
            " 20  Cost Matrix                                               1000 non-null   int64 \n",
            "dtypes: int64(8), object(13)\n",
            "memory usage: 164.2+ KB\n"
          ]
        }
      ],
      "source": [
        "df.info()"
      ]
    },
    {
      "cell_type": "code",
      "execution_count": null,
      "metadata": {
        "id": "jE65Zadabliu"
      },
      "outputs": [],
      "source": [
        "#Random Forests\n"
      ]
    },
    {
      "cell_type": "code",
      "execution_count": null,
      "metadata": {
        "id": "CGHpbsrNbliu"
      },
      "outputs": [],
      "source": [
        "from sklearn.model_selection import train_test_split\n",
        "\n",
        "X_train, X_test, y_train, y_test = train_test_split(X_normalised, y_res, test_size=0.2, random_state=0)"
      ]
    },
    {
      "cell_type": "code",
      "execution_count": null,
      "metadata": {
        "id": "ljM4LvOVbliv"
      },
      "outputs": [],
      "source": [
        "# Feature Scaling\n",
        "from sklearn.preprocessing import StandardScaler\n",
        "sc = StandardScaler()\n",
        "X_train = sc.fit_transform(X_train)\n",
        "X_test = sc.transform(X_test)"
      ]
    },
    {
      "cell_type": "code",
      "execution_count": null,
      "metadata": {
        "id": "jQsDSknLbliv",
        "outputId": "b236a271-1f92-4fd6-fb96-45bdb5913348"
      },
      "outputs": [
        {
          "data": {
            "text/plain": [
              "(120,)"
            ]
          },
          "execution_count": 373,
          "metadata": {},
          "output_type": "execute_result"
        }
      ],
      "source": [
        "y_test.shape\n",
        "y_pred.shape"
      ]
    },
    {
      "cell_type": "code",
      "execution_count": null,
      "metadata": {
        "id": "xv_T5WUobliw",
        "outputId": "7af10d07-2f69-4269-9bd4-2479f6ed0d9f"
      },
      "outputs": [
        {
          "name": "stdout",
          "output_type": "stream",
          "text": [
            "Mean Absolute Error: 0.04\n",
            "Mean Squared Error: 0.04\n",
            "Root Mean Squared Error: 0.2\n"
          ]
        }
      ],
      "source": [
        "#Evaluating the Algorithm\n",
        "from sklearn import metrics\n",
        "print('Mean Absolute Error:', metrics.mean_absolute_error(y_test, y_pred))\n",
        "print('Mean Squared Error:', metrics.mean_squared_error(y_test, y_pred))\n",
        "print('Root Mean Squared Error:', np.sqrt(metrics.mean_squared_error(y_test, y_pred)))"
      ]
    },
    {
      "cell_type": "code",
      "execution_count": null,
      "metadata": {
        "id": "stIHvAaVblix"
      },
      "outputs": [],
      "source": [
        "from sklearn.metrics import accuracy_score, confusion_matrix, classification_report\n",
        "from sklearn.ensemble import RandomForestClassifier"
      ]
    },
    {
      "cell_type": "code",
      "execution_count": null,
      "metadata": {
        "id": "LqB0e3SVbliy",
        "outputId": "b1f464a1-90af-41f7-cc19-12a7e966f35c"
      },
      "outputs": [
        {
          "data": {
            "text/plain": [
              "RandomForestClassifier()"
            ]
          },
          "execution_count": 375,
          "metadata": {},
          "output_type": "execute_result"
        }
      ],
      "source": [
        "forest = RandomForestClassifier()\n",
        "forest.fit(X_train, y_train)"
      ]
    },
    {
      "cell_type": "code",
      "execution_count": null,
      "metadata": {
        "id": "L8pkOijebliy"
      },
      "outputs": [],
      "source": [
        "# Make predictions for the test set\n",
        "y_pred_test = forest.predict(X_test)"
      ]
    },
    {
      "cell_type": "code",
      "execution_count": null,
      "metadata": {
        "id": "28YPgAeCbliy",
        "outputId": "3d05ef5b-6d14-48fa-e15b-8b65ab589ca8"
      },
      "outputs": [
        {
          "data": {
            "text/plain": [
              "0.96"
            ]
          },
          "execution_count": 377,
          "metadata": {},
          "output_type": "execute_result"
        }
      ],
      "source": [
        "# View accuracy score\n",
        "accuracy_score(y_test, y_pred_test)"
      ]
    },
    {
      "cell_type": "code",
      "execution_count": null,
      "metadata": {
        "id": "OscYbfDmbliz",
        "outputId": "505129d4-b065-4257-b561-f290b222e6a1"
      },
      "outputs": [
        {
          "data": {
            "text/plain": [
              "array([[13,  0],\n",
              "       [ 1, 11]], dtype=int64)"
            ]
          },
          "execution_count": 379,
          "metadata": {},
          "output_type": "execute_result"
        }
      ],
      "source": [
        "# View confusion matrix for test data and predictions\n",
        "confusion_matrix(y_test, y_pred_test)"
      ]
    },
    {
      "cell_type": "code",
      "execution_count": null,
      "metadata": {
        "id": "ULF0xi_ubliz",
        "outputId": "dfbbc95e-dd9b-480e-84d7-7ea9c94c4ab5"
      },
      "outputs": [
        {
          "name": "stdout",
          "output_type": "stream",
          "text": [
            "              precision    recall  f1-score   support\n",
            "\n",
            "           0       0.93      1.00      0.96        13\n",
            "           1       1.00      0.92      0.96        12\n",
            "\n",
            "    accuracy                           0.96        25\n",
            "   macro avg       0.96      0.96      0.96        25\n",
            "weighted avg       0.96      0.96      0.96        25\n",
            "\n"
          ]
        }
      ],
      "source": [
        "# View the classification report for test data and predictions\n",
        "print(classification_report(y_test, y_pred_test))"
      ]
    },
    {
      "cell_type": "code",
      "execution_count": null,
      "metadata": {
        "id": "pQ8roapObli0"
      },
      "outputs": [],
      "source": [
        "# Random forest"
      ]
    },
    {
      "cell_type": "code",
      "execution_count": null,
      "metadata": {
        "id": "KO-JbCd_bli0"
      },
      "outputs": [],
      "source": [
        "#Interpretation\n",
        "\n",
        "#Due to more number of trees and with each tree having different random hypermparamater the random forest classifier generalize the training data more instead of the learning and hence we cans see there is a drastic increase in the accuracy of the validation set'.\n",
        "\n",
        "#Due to more randomisation in the selectio of data we get the accuracy for the validation set more and hence reduces teh overfitting.\n",
        "\n",
        "#We can also reduces teh overfitting doing some more changes in teh number of hyper-paramaters\n",
        "\n",
        "#Tree classifier accuracy : Training set : 100 % | validation =0.27%\n",
        "\n",
        "#Randome Forest accuracy : Training set : 97.55 % | validation =86.67%"
      ]
    },
    {
      "cell_type": "code",
      "execution_count": null,
      "metadata": {
        "id": "JexykeC5bli0"
      },
      "outputs": [],
      "source": [
        "# Normalize Data"
      ]
    },
    {
      "cell_type": "code",
      "execution_count": null,
      "metadata": {
        "id": "o9AevrEebli1"
      },
      "outputs": [],
      "source": [
        "# import scoring methods\n",
        "import numpy as np\n",
        "from sklearn.metrics import f1_score\n",
        "from sklearn.metrics import log_loss\n",
        "from sklearn.model_selection import cross_val_score"
      ]
    },
    {
      "cell_type": "code",
      "execution_count": null,
      "metadata": {
        "id": "QO1uRWtsbli1"
      },
      "outputs": [],
      "source": [
        "# our data for training (used '_train' just for improving readability)\n",
        "X_train, y_train=X,y"
      ]
    },
    {
      "cell_type": "code",
      "execution_count": null,
      "metadata": {
        "id": "LM10MJWqbli2",
        "outputId": "d8805240-8e12-4d85-97df-a68ae833347c"
      },
      "outputs": [
        {
          "data": {
            "text/plain": [
              "((100, 20), (100,))"
            ]
          },
          "execution_count": 383,
          "metadata": {},
          "output_type": "execute_result"
        }
      ],
      "source": [
        "X_train.shape, y_train.shape"
      ]
    },
    {
      "cell_type": "code",
      "execution_count": null,
      "metadata": {
        "id": "Pg09JJJ9bli2"
      },
      "outputs": [],
      "source": [
        "# a dictionary for keeping all scores of the classifiers\n",
        "trainScores={}"
      ]
    },
    {
      "cell_type": "code",
      "execution_count": null,
      "metadata": {
        "id": "0eDRC2ymbli3"
      },
      "outputs": [],
      "source": [
        "#Classification\n",
        "#Now, it is your turn, use the training set to build an accurate model. Then use the test set to report the accuracy of the model You should use the following algorithm:\n",
        "\n",
        "#K Nearest Neighbor(KNN)\n",
        "#Decision Tree\n",
        "#Support Vector Machine\n",
        "#Logistic Regression"
      ]
    },
    {
      "cell_type": "code",
      "execution_count": null,
      "metadata": {
        "id": "e0lHt-bBbli3"
      },
      "outputs": [],
      "source": [
        "#K Nearest Neighbor(KNN)"
      ]
    },
    {
      "cell_type": "code",
      "execution_count": null,
      "metadata": {
        "id": "uDiyxct3bli3",
        "outputId": "a266d7df-73fd-4907-f4f7-4fdfce5f7d49"
      },
      "outputs": [
        {
          "name": "stdout",
          "output_type": "stream",
          "text": [
            "Best K is : 8 | Cross validation Accuracy : 0.8800000000000001\n"
          ]
        }
      ],
      "source": [
        "from sklearn.neighbors import KNeighborsClassifier\n",
        "\n",
        "bestScore=0.0\n",
        "accList=[]\n",
        "\n",
        "for k in range(3,12):\n",
        "\n",
        "    clf_knn = KNeighborsClassifier(n_neighbors=k,algorithm='auto')\n",
        "\n",
        "    # using 10 fold cross validation for scoring the classifier's accuracy\n",
        "    scores = cross_val_score(clf_knn, X, y, cv=10)\n",
        "    score=scores.mean()\n",
        "    accList.append(score)\n",
        "\n",
        "    if score > bestScore:\n",
        "        bestScore=score\n",
        "        best_clf=clf_knn\n",
        "        bestK=k\n",
        "\n",
        "print(\"Best K is :\",bestK,\"| Cross validation Accuracy :\",bestScore)\n",
        "clf_knn=best_clf"
      ]
    },
    {
      "cell_type": "code",
      "execution_count": null,
      "metadata": {
        "id": "LpXCLLE_bli4"
      },
      "outputs": [],
      "source": [
        "clf_knn.fit(X_train,y_train)\n",
        "y_pred=best_clf.predict(X_train)"
      ]
    },
    {
      "cell_type": "code",
      "execution_count": null,
      "metadata": {
        "id": "yGag4jibbli4",
        "outputId": "2ae15d55-c0da-4dce-a7c3-c2cdf5b52fba"
      },
      "outputs": [
        {
          "name": "stdout",
          "output_type": "stream",
          "text": [
            "Requirement already satisfied: scikit-learn==0.24 in c:\\users\\mohsen\\anaconda3\\lib\\site-packages (0.24.0)\n",
            "Requirement already satisfied: joblib>=0.11 in c:\\users\\mohsen\\anaconda3\\lib\\site-packages (from scikit-learn==0.24) (0.16.0)\n",
            "Requirement already satisfied: scipy>=0.19.1 in c:\\users\\mohsen\\anaconda3\\lib\\site-packages (from scikit-learn==0.24) (1.5.0)\n",
            "Requirement already satisfied: threadpoolctl>=2.0.0 in c:\\users\\mohsen\\anaconda3\\lib\\site-packages (from scikit-learn==0.24) (2.1.0)\n",
            "Requirement already satisfied: numpy>=1.13.3 in c:\\users\\mohsen\\anaconda3\\lib\\site-packages (from scikit-learn==0.24) (1.18.5)\n"
          ]
        }
      ],
      "source": [
        "!pip install scikit-learn==0.24\n",
        "from sklearn.metrics import jaccard_score\n",
        "trainScores['KNN-jaccard']=jaccard_score(y_train, y_pred)\n",
        "trainScores['KNN-f1-score']=f1_score(y_train, y_pred, average='weighted')"
      ]
    },
    {
      "cell_type": "code",
      "execution_count": null,
      "metadata": {
        "id": "sTAq2t63bli4",
        "outputId": "fedc6891-6beb-4f04-80c8-49f614914a10"
      },
      "outputs": [
        {
          "data": {
            "text/plain": [
              "{'KNN-jaccard': 0.8367346938775511, 'KNN-f1-score': 0.9193535353535354}"
            ]
          },
          "execution_count": 389,
          "metadata": {},
          "output_type": "execute_result"
        }
      ],
      "source": [
        "trainScores"
      ]
    },
    {
      "cell_type": "code",
      "execution_count": null,
      "metadata": {
        "id": "ke3xgHGVbli5",
        "outputId": "59a89135-94f8-45ec-bbfd-51f20d2a8551"
      },
      "outputs": [
        {
          "data": {
            "image/png": "[encoded data removed]",
            "text/plain": [
              "<Figure size 432x288 with 1 Axes>"
            ]
          },
          "metadata": {
            "needs_background": "light"
          },
          "output_type": "display_data"
        }
      ],
      "source": [
        "plt.plot(range(3,12),accList)\n",
        "plt.xlabel('K')\n",
        "plt.ylabel('CV Accuracy')\n",
        "plt.show()"
      ]
    },
    {
      "cell_type": "code",
      "execution_count": null,
      "metadata": {
        "id": "bhYtxy-abli5"
      },
      "outputs": [],
      "source": [
        "#Decision Tree"
      ]
    },
    {
      "cell_type": "code",
      "execution_count": null,
      "metadata": {
        "id": "5idyE3JYbli5"
      },
      "outputs": [],
      "source": [
        "from sklearn import tree\n",
        "\n",
        "clf_tree = tree.DecisionTreeClassifier()\n",
        "clf_tree = clf_tree.fit(X_train, y_train)\n",
        "\n",
        "y_pred=clf_tree.predict(X_train)"
      ]
    },
    {
      "cell_type": "code",
      "execution_count": null,
      "metadata": {
        "id": "UzgPm-x6bli6"
      },
      "outputs": [],
      "source": [
        "trainScores['Tree-jaccard']=jaccard_score(y_train, y_pred)\n",
        "trainScores['Tree-f1-score']=f1_score(y_train, y_pred, average='weighted')"
      ]
    },
    {
      "cell_type": "code",
      "execution_count": null,
      "metadata": {
        "id": "DBhEaittbli6",
        "outputId": "01aab24b-72c7-472c-d01e-06d591d08c42"
      },
      "outputs": [
        {
          "data": {
            "text/plain": [
              "{}"
            ]
          },
          "execution_count": 339,
          "metadata": {},
          "output_type": "execute_result"
        }
      ],
      "source": [
        "trainScores"
      ]
    },
    {
      "cell_type": "code",
      "execution_count": null,
      "metadata": {
        "id": "J0PaNlhlbli6",
        "outputId": "101a6ddb-5604-4111-9201-42f9b61203fe"
      },
      "outputs": [
        {
          "data": {
            "text/plain": [
              "1.0"
            ]
          },
          "execution_count": 393,
          "metadata": {},
          "output_type": "execute_result"
        }
      ],
      "source": [
        "# Accuracy\n",
        "clf_tree.score(X_test, y_test)"
      ]
    },
    {
      "cell_type": "code",
      "execution_count": null,
      "metadata": {
        "id": "W_45Xh_1bli7",
        "outputId": "700fd459-9f9b-4564-8d5e-1474e1fecf8c"
      },
      "outputs": [
        {
          "name": "stdout",
          "output_type": "stream",
          "text": [
            "Requirement already satisfied: graphviz in c:\\users\\mohsen\\anaconda3\\lib\\site-packages (0.17)\n",
            "Requirement already satisfied: pydotplus in c:\\users\\mohsen\\anaconda3\\lib\\site-packages (2.0.2)\n",
            "Requirement already satisfied: pyparsing>=2.0.1 in c:\\users\\mohsen\\anaconda3\\lib\\site-packages (from pydotplus) (2.4.7)\n"
          ]
        },
        {
          "data": {
            "image/svg+xml": [
              "<?xml version=\"1.0\" encoding=\"UTF-8\" standalone=\"no\"?>\r\n",
              "<!DOCTYPE svg PUBLIC \"-//W3C//DTD SVG 1.1//EN\"\r\n",
              " \"http://www.w3.org/Graphics/SVG/1.1/DTD/svg11.dtd\">\r\n",
              "<!-- Generated by graphviz version 2.38.0 (20140413.2041)\r\n",
              " -->\r\n",
              "<!-- Title: Tree Pages: 1 -->\r\n",
              "<svg width=\"576pt\" height=\"544pt\"\r\n",
              " viewBox=\"0.00 0.00 576.00 544.44\" xmlns=\"http://www.w3.org/2000/svg\" xmlns:xlink=\"http://www.w3.org/1999/xlink\">\r\n",
              "<g id=\"graph0\" class=\"graph\" transform=\"scale(0.986301 0.986301) rotate(0) translate(4 548)\">\r\n",
              "<title>Tree</title>\r\n",
              "<polygon fill=\"white\" stroke=\"none\" points=\"-4,4 -4,-548 580,-548 580,4 -4,4\"/>\r\n",
              "<!-- 0 -->\r\n",
              "<g id=\"node1\" class=\"node\"><title>0</title>\r\n",
              "<path fill=\"#fefaf7\" stroke=\"black\" d=\"M249.5,-544C249.5,-544 91.5,-544 91.5,-544 85.5,-544 79.5,-538 79.5,-532 79.5,-532 79.5,-473 79.5,-473 79.5,-467 85.5,-461 91.5,-461 91.5,-461 249.5,-461 249.5,-461 255.5,-461 261.5,-467 261.5,-473 261.5,-473 261.5,-532 261.5,-532 261.5,-538 255.5,-544 249.5,-544\"/>\r\n",
              "<text text-anchor=\"start\" x=\"87.5\" y=\"-528.8\" font-family=\"Helvetica,sans-Serif\" font-size=\"14.00\">Duration in month ≤ &#45;0.464</text>\r\n",
              "<text text-anchor=\"start\" x=\"141.5\" y=\"-513.8\" font-family=\"Helvetica,sans-Serif\" font-size=\"14.00\">gini = 0.5</text>\r\n",
              "<text text-anchor=\"start\" x=\"123\" y=\"-498.8\" font-family=\"Helvetica,sans-Serif\" font-size=\"14.00\">samples = 100</text>\r\n",
              "<text text-anchor=\"start\" x=\"122\" y=\"-483.8\" font-family=\"Helvetica,sans-Serif\" font-size=\"14.00\">value = [51, 49]</text>\r\n",
              "<text text-anchor=\"start\" x=\"140.5\" y=\"-468.8\" font-family=\"Helvetica,sans-Serif\" font-size=\"14.00\">class = C</text>\r\n",
              "</g>\r\n",
              "<!-- 1 -->\r\n",
              "<g id=\"node2\" class=\"node\"><title>1</title>\r\n",
              "<path fill=\"#e58139\" stroke=\"black\" d=\"M141,-417.5C141,-417.5 60,-417.5 60,-417.5 54,-417.5 48,-411.5 48,-405.5 48,-405.5 48,-361.5 48,-361.5 48,-355.5 54,-349.5 60,-349.5 60,-349.5 141,-349.5 141,-349.5 147,-349.5 153,-355.5 153,-361.5 153,-361.5 153,-405.5 153,-405.5 153,-411.5 147,-417.5 141,-417.5\"/>\r\n",
              "<text text-anchor=\"start\" x=\"71.5\" y=\"-402.3\" font-family=\"Helvetica,sans-Serif\" font-size=\"14.00\">gini = 0.0</text>\r\n",
              "<text text-anchor=\"start\" x=\"57\" y=\"-387.3\" font-family=\"Helvetica,sans-Serif\" font-size=\"14.00\">samples = 49</text>\r\n",
              "<text text-anchor=\"start\" x=\"56\" y=\"-372.3\" font-family=\"Helvetica,sans-Serif\" font-size=\"14.00\">value = [49, 0]</text>\r\n",
              "<text text-anchor=\"start\" x=\"70.5\" y=\"-357.3\" font-family=\"Helvetica,sans-Serif\" font-size=\"14.00\">class = C</text>\r\n",
              "</g>\r\n",
              "<!-- 0&#45;&gt;1 -->\r\n",
              "<g id=\"edge1\" class=\"edge\"><title>0&#45;&gt;1</title>\r\n",
              "<path fill=\"none\" stroke=\"black\" d=\"M146.214,-460.907C139.546,-449.763 132.304,-437.658 125.592,-426.439\"/>\r\n",
              "<polygon fill=\"black\" stroke=\"black\" points=\"128.481,-424.451 120.343,-417.667 122.474,-428.045 128.481,-424.451\"/>\r\n",
              "<text text-anchor=\"middle\" x=\"114.25\" y=\"-438.213\" font-family=\"Helvetica,sans-Serif\" font-size=\"14.00\">True</text>\r\n",
              "</g>\r\n",
              "<!-- 2 -->\r\n",
              "<g id=\"node3\" class=\"node\"><title>2</title>\r\n",
              "<path fill=\"#41a1e6\" stroke=\"black\" d=\"M300,-425C300,-425 183,-425 183,-425 177,-425 171,-419 171,-413 171,-413 171,-354 171,-354 171,-348 177,-342 183,-342 183,-342 300,-342 300,-342 306,-342 312,-348 312,-354 312,-354 312,-413 312,-413 312,-419 306,-425 300,-425\"/>\r\n",
              "<text text-anchor=\"start\" x=\"179\" y=\"-409.8\" font-family=\"Helvetica,sans-Serif\" font-size=\"14.00\">Telephone ≤ &#45;1.711</text>\r\n",
              "<text text-anchor=\"start\" x=\"204\" y=\"-394.8\" font-family=\"Helvetica,sans-Serif\" font-size=\"14.00\">gini = 0.075</text>\r\n",
              "<text text-anchor=\"start\" x=\"198\" y=\"-379.8\" font-family=\"Helvetica,sans-Serif\" font-size=\"14.00\">samples = 51</text>\r\n",
              "<text text-anchor=\"start\" x=\"197\" y=\"-364.8\" font-family=\"Helvetica,sans-Serif\" font-size=\"14.00\">value = [2, 49]</text>\r\n",
              "<text text-anchor=\"start\" x=\"212.5\" y=\"-349.8\" font-family=\"Helvetica,sans-Serif\" font-size=\"14.00\">class = o</text>\r\n",
              "</g>\r\n",
              "<!-- 0&#45;&gt;2 -->\r\n",
              "<g id=\"edge2\" class=\"edge\"><title>0&#45;&gt;2</title>\r\n",
              "<path fill=\"none\" stroke=\"black\" d=\"M195.133,-460.907C200.475,-452.105 206.18,-442.703 211.697,-433.612\"/>\r\n",
              "<polygon fill=\"black\" stroke=\"black\" points=\"214.715,-435.386 216.91,-425.021 208.73,-431.754 214.715,-435.386\"/>\r\n",
              "<text text-anchor=\"middle\" x=\"222.852\" y=\"-445.604\" font-family=\"Helvetica,sans-Serif\" font-size=\"14.00\">False</text>\r\n",
              "</g>\r\n",
              "<!-- 3 -->\r\n",
              "<g id=\"node4\" class=\"node\"><title>3</title>\r\n",
              "<path fill=\"#ffffff\" stroke=\"black\" d=\"M202,-306C202,-306 87,-306 87,-306 81,-306 75,-300 75,-294 75,-294 75,-235 75,-235 75,-229 81,-223 87,-223 87,-223 202,-223 202,-223 208,-223 214,-229 214,-235 214,-235 214,-294 214,-294 214,-300 208,-306 202,-306\"/>\r\n",
              "<text text-anchor=\"start\" x=\"83\" y=\"-290.8\" font-family=\"Helvetica,sans-Serif\" font-size=\"14.00\">Age in years ≤ 0.18</text>\r\n",
              "<text text-anchor=\"start\" x=\"115.5\" y=\"-275.8\" font-family=\"Helvetica,sans-Serif\" font-size=\"14.00\">gini = 0.5</text>\r\n",
              "<text text-anchor=\"start\" x=\"105\" y=\"-260.8\" font-family=\"Helvetica,sans-Serif\" font-size=\"14.00\">samples = 2</text>\r\n",
              "<text text-anchor=\"start\" x=\"104\" y=\"-245.8\" font-family=\"Helvetica,sans-Serif\" font-size=\"14.00\">value = [1, 1]</text>\r\n",
              "<text text-anchor=\"start\" x=\"114.5\" y=\"-230.8\" font-family=\"Helvetica,sans-Serif\" font-size=\"14.00\">class = C</text>\r\n",
              "</g>\r\n",
              "<!-- 2&#45;&gt;3 -->\r\n",
              "<g id=\"edge3\" class=\"edge\"><title>2&#45;&gt;3</title>\r\n",
              "<path fill=\"none\" stroke=\"black\" d=\"M207.846,-341.907C200.323,-332.832 192.271,-323.121 184.518,-313.769\"/>\r\n",
              "<polygon fill=\"black\" stroke=\"black\" points=\"187.171,-311.485 178.094,-306.021 181.782,-315.953 187.171,-311.485\"/>\r\n",
              "</g>\r\n",
              "<!-- 6 -->\r\n",
              "<g id=\"node7\" class=\"node\"><title>6</title>\r\n",
              "<path fill=\"#3d9fe6\" stroke=\"black\" d=\"M432.5,-306C432.5,-306 244.5,-306 244.5,-306 238.5,-306 232.5,-300 232.5,-294 232.5,-294 232.5,-235 232.5,-235 232.5,-229 238.5,-223 244.5,-223 244.5,-223 432.5,-223 432.5,-223 438.5,-223 444.5,-229 444.5,-235 444.5,-235 444.5,-294 444.5,-294 444.5,-300 438.5,-306 432.5,-306\"/>\r\n",
              "<text text-anchor=\"start\" x=\"240.5\" y=\"-290.8\" font-family=\"Helvetica,sans-Serif\" font-size=\"14.00\">Other installment plans ≤ 1.694</text>\r\n",
              "<text text-anchor=\"start\" x=\"305\" y=\"-275.8\" font-family=\"Helvetica,sans-Serif\" font-size=\"14.00\">gini = 0.04</text>\r\n",
              "<text text-anchor=\"start\" x=\"295\" y=\"-260.8\" font-family=\"Helvetica,sans-Serif\" font-size=\"14.00\">samples = 49</text>\r\n",
              "<text text-anchor=\"start\" x=\"294\" y=\"-245.8\" font-family=\"Helvetica,sans-Serif\" font-size=\"14.00\">value = [1, 48]</text>\r\n",
              "<text text-anchor=\"start\" x=\"309.5\" y=\"-230.8\" font-family=\"Helvetica,sans-Serif\" font-size=\"14.00\">class = o</text>\r\n",
              "</g>\r\n",
              "<!-- 2&#45;&gt;6 -->\r\n",
              "<g id=\"edge6\" class=\"edge\"><title>2&#45;&gt;6</title>\r\n",
              "<path fill=\"none\" stroke=\"black\" d=\"M275.154,-341.907C282.677,-332.832 290.729,-323.121 298.482,-313.769\"/>\r\n",
              "<polygon fill=\"black\" stroke=\"black\" points=\"301.218,-315.953 304.906,-306.021 295.829,-311.485 301.218,-315.953\"/>\r\n",
              "</g>\r\n",
              "<!-- 4 -->\r\n",
              "<g id=\"node5\" class=\"node\"><title>4</title>\r\n",
              "<path fill=\"#399de5\" stroke=\"black\" d=\"M85,-179.5C85,-179.5 12,-179.5 12,-179.5 6,-179.5 0,-173.5 0,-167.5 0,-167.5 0,-123.5 0,-123.5 0,-117.5 6,-111.5 12,-111.5 12,-111.5 85,-111.5 85,-111.5 91,-111.5 97,-117.5 97,-123.5 97,-123.5 97,-167.5 97,-167.5 97,-173.5 91,-179.5 85,-179.5\"/>\r\n",
              "<text text-anchor=\"start\" x=\"19.5\" y=\"-164.3\" font-family=\"Helvetica,sans-Serif\" font-size=\"14.00\">gini = 0.0</text>\r\n",
              "<text text-anchor=\"start\" x=\"9\" y=\"-149.3\" font-family=\"Helvetica,sans-Serif\" font-size=\"14.00\">samples = 1</text>\r\n",
              "<text text-anchor=\"start\" x=\"8\" y=\"-134.3\" font-family=\"Helvetica,sans-Serif\" font-size=\"14.00\">value = [0, 1]</text>\r\n",
              "<text text-anchor=\"start\" x=\"19.5\" y=\"-119.3\" font-family=\"Helvetica,sans-Serif\" font-size=\"14.00\">class = o</text>\r\n",
              "</g>\r\n",
              "<!-- 3&#45;&gt;4 -->\r\n",
              "<g id=\"edge4\" class=\"edge\"><title>3&#45;&gt;4</title>\r\n",
              "<path fill=\"none\" stroke=\"black\" d=\"M111.193,-222.907C101.777,-211.432 91.5262,-198.938 82.0933,-187.442\"/>\r\n",
              "<polygon fill=\"black\" stroke=\"black\" points=\"84.7629,-185.178 75.7139,-179.667 79.3513,-189.618 84.7629,-185.178\"/>\r\n",
              "</g>\r\n",
              "<!-- 5 -->\r\n",
              "<g id=\"node6\" class=\"node\"><title>5</title>\r\n",
              "<path fill=\"#e58139\" stroke=\"black\" d=\"M200,-179.5C200,-179.5 127,-179.5 127,-179.5 121,-179.5 115,-173.5 115,-167.5 115,-167.5 115,-123.5 115,-123.5 115,-117.5 121,-111.5 127,-111.5 127,-111.5 200,-111.5 200,-111.5 206,-111.5 212,-117.5 212,-123.5 212,-123.5 212,-167.5 212,-167.5 212,-173.5 206,-179.5 200,-179.5\"/>\r\n",
              "<text text-anchor=\"start\" x=\"134.5\" y=\"-164.3\" font-family=\"Helvetica,sans-Serif\" font-size=\"14.00\">gini = 0.0</text>\r\n",
              "<text text-anchor=\"start\" x=\"124\" y=\"-149.3\" font-family=\"Helvetica,sans-Serif\" font-size=\"14.00\">samples = 1</text>\r\n",
              "<text text-anchor=\"start\" x=\"123\" y=\"-134.3\" font-family=\"Helvetica,sans-Serif\" font-size=\"14.00\">value = [1, 0]</text>\r\n",
              "<text text-anchor=\"start\" x=\"133.5\" y=\"-119.3\" font-family=\"Helvetica,sans-Serif\" font-size=\"14.00\">class = C</text>\r\n",
              "</g>\r\n",
              "<!-- 3&#45;&gt;5 -->\r\n",
              "<g id=\"edge5\" class=\"edge\"><title>3&#45;&gt;5</title>\r\n",
              "<path fill=\"none\" stroke=\"black\" d=\"M151.092,-222.907C152.83,-212.204 154.712,-200.615 156.472,-189.776\"/>\r\n",
              "<polygon fill=\"black\" stroke=\"black\" points=\"159.966,-190.099 158.114,-179.667 153.056,-188.977 159.966,-190.099\"/>\r\n",
              "</g>\r\n",
              "<!-- 7 -->\r\n",
              "<g id=\"node8\" class=\"node\"><title>7</title>\r\n",
              "<path fill=\"#399de5\" stroke=\"black\" d=\"M360,-179.5C360,-179.5 279,-179.5 279,-179.5 273,-179.5 267,-173.5 267,-167.5 267,-167.5 267,-123.5 267,-123.5 267,-117.5 273,-111.5 279,-111.5 279,-111.5 360,-111.5 360,-111.5 366,-111.5 372,-117.5 372,-123.5 372,-123.5 372,-167.5 372,-167.5 372,-173.5 366,-179.5 360,-179.5\"/>\r\n",
              "<text text-anchor=\"start\" x=\"290.5\" y=\"-164.3\" font-family=\"Helvetica,sans-Serif\" font-size=\"14.00\">gini = 0.0</text>\r\n",
              "<text text-anchor=\"start\" x=\"276\" y=\"-149.3\" font-family=\"Helvetica,sans-Serif\" font-size=\"14.00\">samples = 47</text>\r\n",
              "<text text-anchor=\"start\" x=\"275\" y=\"-134.3\" font-family=\"Helvetica,sans-Serif\" font-size=\"14.00\">value = [0, 47]</text>\r\n",
              "<text text-anchor=\"start\" x=\"290.5\" y=\"-119.3\" font-family=\"Helvetica,sans-Serif\" font-size=\"14.00\">class = o</text>\r\n",
              "</g>\r\n",
              "<!-- 6&#45;&gt;7 -->\r\n",
              "<g id=\"edge7\" class=\"edge\"><title>6&#45;&gt;7</title>\r\n",
              "<path fill=\"none\" stroke=\"black\" d=\"M331.908,-222.907C330.17,-212.204 328.288,-200.615 326.528,-189.776\"/>\r\n",
              "<polygon fill=\"black\" stroke=\"black\" points=\"329.944,-188.977 324.886,-179.667 323.034,-190.099 329.944,-188.977\"/>\r\n",
              "</g>\r\n",
              "<!-- 8 -->\r\n",
              "<g id=\"node9\" class=\"node\"><title>8</title>\r\n",
              "<path fill=\"#ffffff\" stroke=\"black\" d=\"M538.5,-187C538.5,-187 402.5,-187 402.5,-187 396.5,-187 390.5,-181 390.5,-175 390.5,-175 390.5,-116 390.5,-116 390.5,-110 396.5,-104 402.5,-104 402.5,-104 538.5,-104 538.5,-104 544.5,-104 550.5,-110 550.5,-116 550.5,-116 550.5,-175 550.5,-175 550.5,-181 544.5,-187 538.5,-187\"/>\r\n",
              "<text text-anchor=\"start\" x=\"398.5\" y=\"-171.8\" font-family=\"Helvetica,sans-Serif\" font-size=\"14.00\">Credit history &#160;≤ &#45;0.133</text>\r\n",
              "<text text-anchor=\"start\" x=\"441.5\" y=\"-156.8\" font-family=\"Helvetica,sans-Serif\" font-size=\"14.00\">gini = 0.5</text>\r\n",
              "<text text-anchor=\"start\" x=\"431\" y=\"-141.8\" font-family=\"Helvetica,sans-Serif\" font-size=\"14.00\">samples = 2</text>\r\n",
              "<text text-anchor=\"start\" x=\"430\" y=\"-126.8\" font-family=\"Helvetica,sans-Serif\" font-size=\"14.00\">value = [1, 1]</text>\r\n",
              "<text text-anchor=\"start\" x=\"440.5\" y=\"-111.8\" font-family=\"Helvetica,sans-Serif\" font-size=\"14.00\">class = C</text>\r\n",
              "</g>\r\n",
              "<!-- 6&#45;&gt;8 -->\r\n",
              "<g id=\"edge8\" class=\"edge\"><title>6&#45;&gt;8</title>\r\n",
              "<path fill=\"none\" stroke=\"black\" d=\"M384.297,-222.907C394.842,-213.56 406.15,-203.538 416.991,-193.929\"/>\r\n",
              "<polygon fill=\"black\" stroke=\"black\" points=\"419.622,-196.273 424.784,-187.021 414.979,-191.035 419.622,-196.273\"/>\r\n",
              "</g>\r\n",
              "<!-- 9 -->\r\n",
              "<g id=\"node10\" class=\"node\"><title>9</title>\r\n",
              "<path fill=\"#e58139\" stroke=\"black\" d=\"M449,-68C449,-68 376,-68 376,-68 370,-68 364,-62 364,-56 364,-56 364,-12 364,-12 364,-6 370,-0 376,-0 376,-0 449,-0 449,-0 455,-0 461,-6 461,-12 461,-12 461,-56 461,-56 461,-62 455,-68 449,-68\"/>\r\n",
              "<text text-anchor=\"start\" x=\"383.5\" y=\"-52.8\" font-family=\"Helvetica,sans-Serif\" font-size=\"14.00\">gini = 0.0</text>\r\n",
              "<text text-anchor=\"start\" x=\"373\" y=\"-37.8\" font-family=\"Helvetica,sans-Serif\" font-size=\"14.00\">samples = 1</text>\r\n",
              "<text text-anchor=\"start\" x=\"372\" y=\"-22.8\" font-family=\"Helvetica,sans-Serif\" font-size=\"14.00\">value = [1, 0]</text>\r\n",
              "<text text-anchor=\"start\" x=\"382.5\" y=\"-7.8\" font-family=\"Helvetica,sans-Serif\" font-size=\"14.00\">class = C</text>\r\n",
              "</g>\r\n",
              "<!-- 8&#45;&gt;9 -->\r\n",
              "<g id=\"edge9\" class=\"edge\"><title>8&#45;&gt;9</title>\r\n",
              "<path fill=\"none\" stroke=\"black\" d=\"M448.903,-103.726C444.313,-95.0615 439.459,-85.8962 434.842,-77.1802\"/>\r\n",
              "<polygon fill=\"black\" stroke=\"black\" points=\"437.912,-75.4982 430.138,-68.2996 431.726,-78.7748 437.912,-75.4982\"/>\r\n",
              "</g>\r\n",
              "<!-- 10 -->\r\n",
              "<g id=\"node11\" class=\"node\"><title>10</title>\r\n",
              "<path fill=\"#399de5\" stroke=\"black\" d=\"M564,-68C564,-68 491,-68 491,-68 485,-68 479,-62 479,-56 479,-56 479,-12 479,-12 479,-6 485,-0 491,-0 491,-0 564,-0 564,-0 570,-0 576,-6 576,-12 576,-12 576,-56 576,-56 576,-62 570,-68 564,-68\"/>\r\n",
              "<text text-anchor=\"start\" x=\"498.5\" y=\"-52.8\" font-family=\"Helvetica,sans-Serif\" font-size=\"14.00\">gini = 0.0</text>\r\n",
              "<text text-anchor=\"start\" x=\"488\" y=\"-37.8\" font-family=\"Helvetica,sans-Serif\" font-size=\"14.00\">samples = 1</text>\r\n",
              "<text text-anchor=\"start\" x=\"487\" y=\"-22.8\" font-family=\"Helvetica,sans-Serif\" font-size=\"14.00\">value = [0, 1]</text>\r\n",
              "<text text-anchor=\"start\" x=\"498.5\" y=\"-7.8\" font-family=\"Helvetica,sans-Serif\" font-size=\"14.00\">class = o</text>\r\n",
              "</g>\r\n",
              "<!-- 8&#45;&gt;10 -->\r\n",
              "<g id=\"edge10\" class=\"edge\"><title>8&#45;&gt;10</title>\r\n",
              "<path fill=\"none\" stroke=\"black\" d=\"M491.725,-103.726C496.235,-95.0615 501.006,-85.8962 505.543,-77.1802\"/>\r\n",
              "<polygon fill=\"black\" stroke=\"black\" points=\"508.653,-78.7859 510.166,-68.2996 502.444,-75.5537 508.653,-78.7859\"/>\r\n",
              "</g>\r\n",
              "</g>\r\n",
              "</svg>\r\n"
            ],
            "text/plain": [
              "<graphviz.files.Source at 0x26ac9116370>"
            ]
          },
          "execution_count": 428,
          "metadata": {},
          "output_type": "execute_result"
        }
      ],
      "source": [
        "!pip install graphviz\n",
        "!pip install pydotplus\n",
        "import graphviz\n",
        "import pydotplus\n",
        "\n",
        "dot_data = tree.export_graphviz(clf_tree, out_file=None,\n",
        "                     feature_names=['Status of existing checking account','Duration in month','Credit history '\n",
        "\n",
        "                                    ,'Purpose ','Credit amount','Savings account/bonds ','Present employment since ',\n",
        "                                    'Installment rate in percentage of disposable income ','Personal status and sex',\n",
        "                                    'Other debtors / guarantors','Present residence since','Property ','Age in years',\n",
        "                                    'Other installment plans','Housing','Number of existing credits at this bank',\n",
        "                                    'Job','Number of people being liable to provide maintenance for','Telephone',\n",
        "                                    'foreign worker'\n",
        "\n",
        "                                   ],\n",
        "                     class_names='Cost Matrix',\n",
        "                     filled=True, rounded=True,\n",
        "                     special_characters=True)\n",
        "\n",
        "graph = pydotplus.graph_from_dot_data(dot_data)\n",
        "graph.set_size('\"8,8!\"')\n",
        "gvz_graph = graphviz.Source(graph.to_string())\n",
        "\n",
        "gvz_graph"
      ]
    },
    {
      "cell_type": "code",
      "execution_count": null,
      "metadata": {
        "id": "MQFsIcd1bli7"
      },
      "outputs": [],
      "source": [
        "#Support Vector Machine"
      ]
    },
    {
      "cell_type": "code",
      "execution_count": null,
      "metadata": {
        "id": "WUuJVjLxbli8"
      },
      "outputs": [],
      "source": [
        "y_train=y_train.astype(float)"
      ]
    },
    {
      "cell_type": "code",
      "execution_count": null,
      "metadata": {
        "id": "MBqpdb-8bli8"
      },
      "outputs": [],
      "source": [
        "from sklearn import svm\n",
        "\n",
        "clf_svm = svm.LinearSVC(random_state=7)\n",
        "clf_svm.fit(X_train, y_train)\n",
        "\n",
        "y_pred=clf_svm.predict(X_train)"
      ]
    },
    {
      "cell_type": "code",
      "execution_count": null,
      "metadata": {
        "id": "ZbIkccQXbli8"
      },
      "outputs": [],
      "source": [
        "trainScores['SVM-jaccard']=jaccard_score(y_train, y_pred)\n",
        "trainScores['SVM-f1-score']=f1_score(y_train, y_pred, average='weighted')"
      ]
    },
    {
      "cell_type": "code",
      "execution_count": null,
      "metadata": {
        "id": "KgyqCZbYbli9",
        "outputId": "8c608500-c864-4ab9-f47c-5728d1d25723"
      },
      "outputs": [
        {
          "data": {
            "text/plain": [
              "{'KNN-jaccard': 0.8367346938775511,\n",
              " 'KNN-f1-score': 0.9193535353535354,\n",
              " 'Tree-jaccard': 1.0,\n",
              " 'Tree-f1-score': 1.0,\n",
              " 'SVM-jaccard': 1.0,\n",
              " 'SVM-f1-score': 1.0}"
            ]
          },
          "execution_count": 398,
          "metadata": {},
          "output_type": "execute_result"
        }
      ],
      "source": [
        "trainScores"
      ]
    },
    {
      "cell_type": "code",
      "execution_count": null,
      "metadata": {
        "id": "eld-AdF5bli9"
      },
      "outputs": [],
      "source": [
        "#Logistic Regression"
      ]
    },
    {
      "cell_type": "code",
      "execution_count": null,
      "metadata": {
        "id": "uZS_i0YKbli-"
      },
      "outputs": [],
      "source": [
        "from sklearn.linear_model import LogisticRegression\n",
        "\n",
        "clf_log = LogisticRegression(random_state=0, solver='lbfgs',\n",
        "                         multi_class='multinomial')\n",
        "clf_log.fit(X_train, y_train)\n",
        "\n",
        "y_pred=clf_log.predict(X_train)\n",
        "y_proba=clf_log.predict_proba(X_train)"
      ]
    },
    {
      "cell_type": "code",
      "execution_count": null,
      "metadata": {
        "id": "EYkY6GBWbljJ"
      },
      "outputs": [],
      "source": [
        "\n",
        "trainScores['LogReg-jaccard']=jaccard_score(y_train, y_pred)\n",
        "trainScores['LogReg-f1-score']=f1_score(y_train, y_pred, average='weighted')\n",
        "trainScores['LogReg-logLoss']=log_loss(y_train, y_proba)"
      ]
    },
    {
      "cell_type": "code",
      "execution_count": null,
      "metadata": {
        "id": "fGMwpqbWbljJ",
        "outputId": "b8c0a65d-d02b-4a84-ee7c-c9d686acef47"
      },
      "outputs": [
        {
          "data": {
            "text/plain": [
              "{}"
            ]
          },
          "execution_count": 345,
          "metadata": {},
          "output_type": "execute_result"
        }
      ],
      "source": [
        "trainScores"
      ]
    },
    {
      "cell_type": "code",
      "execution_count": null,
      "metadata": {
        "id": "k4VcFQ-gbljK"
      },
      "outputs": [],
      "source": [
        "#Load Test set for evaluation"
      ]
    },
    {
      "cell_type": "code",
      "execution_count": null,
      "metadata": {
        "id": "hqOUcAVfbljK"
      },
      "outputs": [],
      "source": [
        "from sklearn import preprocessing\n",
        "testy=y.astype(float)\n",
        "testX= preprocessing.StandardScaler().fit_transform(X)"
      ]
    },
    {
      "cell_type": "code",
      "execution_count": null,
      "metadata": {
        "id": "ZMO1mI7TbljK"
      },
      "outputs": [],
      "source": [
        "testScores={}"
      ]
    },
    {
      "cell_type": "code",
      "execution_count": null,
      "metadata": {
        "id": "3H4Tr-OEbljL"
      },
      "outputs": [],
      "source": [
        "from sklearn.neighbors import KNeighborsClassifier\n",
        "knn_pred=clf_knn.predict(testX)\n",
        "testScores['KNN-jaccard']=jaccard_score(testy, knn_pred)\n",
        "testScores['KNN-f1-score']=f1_score(testy, knn_pred, average='weighted')"
      ]
    },
    {
      "cell_type": "code",
      "execution_count": null,
      "metadata": {
        "id": "617L6q1pbljL"
      },
      "outputs": [],
      "source": [
        "tree_pred=clf_tree.predict(testX)\n",
        "testScores['Tree-jaccard']=jaccard_score(testy, tree_pred)\n",
        "testScores['Tree-f1-score']=f1_score(testy, tree_pred, average='weighted')"
      ]
    },
    {
      "cell_type": "code",
      "execution_count": null,
      "metadata": {
        "id": "mYuXXImjbljL"
      },
      "outputs": [],
      "source": [
        "svm_pred=clf_svm.predict(testX)\n",
        "testScores['SVM-jaccard']=jaccard_score(testy, svm_pred)\n",
        "testScores['SVM-f1-score']=f1_score(testy, svm_pred, average='weighted')"
      ]
    },
    {
      "cell_type": "code",
      "execution_count": null,
      "metadata": {
        "id": "fyYwVYRubljL"
      },
      "outputs": [],
      "source": [
        "log_pred=clf_log.predict(testX)\n",
        "proba=clf_log.predict_proba(testX)\n",
        "testScores['LogReg-jaccard']=jaccard_score(testy, log_pred)\n",
        "testScores['LogReg-f1-score']=f1_score(testy, log_pred, average='weighted')\n",
        "testScores['LogReg-logLoss']=log_loss(testy, proba)"
      ]
    },
    {
      "cell_type": "code",
      "execution_count": null,
      "metadata": {
        "id": "Wc8eh_mBbljM",
        "outputId": "e1383c9e-9c2f-4d96-b700-dcac40a34e38"
      },
      "outputs": [
        {
          "data": {
            "text/plain": [
              "{'KNN-jaccard': 0.8367346938775511,\n",
              " 'KNN-f1-score': 0.9193535353535354,\n",
              " 'Tree-jaccard': 1.0,\n",
              " 'Tree-f1-score': 1.0,\n",
              " 'SVM-jaccard': 1.0,\n",
              " 'SVM-f1-score': 1.0,\n",
              " 'LogReg-jaccard': 0.98,\n",
              " 'LogReg-f1-score': 0.9900010001000099,\n",
              " 'LogReg-logLoss': 0.056382280983385755}"
            ]
          },
          "execution_count": 408,
          "metadata": {},
          "output_type": "execute_result"
        }
      ],
      "source": [
        "trainScores"
      ]
    },
    {
      "cell_type": "code",
      "execution_count": null,
      "metadata": {
        "id": "kh-xIM6wbljM",
        "outputId": "911ce5c4-bfd0-4a79-a1db-1b4eae9c8f7a"
      },
      "outputs": [
        {
          "ename": "SyntaxError",
          "evalue": "invalid syntax (<ipython-input-409-b374babb37b5>, line 4)",
          "output_type": "error",
          "traceback": [
            "\u001b[1;36m  File \u001b[1;32m\"<ipython-input-409-b374babb37b5>\"\u001b[1;36m, line \u001b[1;32m4\u001b[0m\n\u001b[1;33m    Algorithm\tJaccard\tF1-score\tLogLoss\u001b[0m\n\u001b[1;37m             \t^\u001b[0m\n\u001b[1;31mSyntaxError\u001b[0m\u001b[1;31m:\u001b[0m invalid syntax\n"
          ]
        }
      ],
      "source": [
        "#Report\n",
        "#You should be able to report the accuracy of the built model using different evaluation metrics:\n",
        "# Table\n",
        "Algorithm\tJaccard\tF1-score\tLogLoss\n",
        "KNN\t?\t?\tNA\n",
        "Decision Tree\t?\t?\tNA\n",
        "SVM\t?\t?\tNA\n",
        "LogisticRegression\t?\t?\t?"
      ]
    },
    {
      "cell_type": "code",
      "execution_count": null,
      "metadata": {
        "id": "nzJPaoH6bljN"
      },
      "outputs": [],
      "source": [
        "#the Naive Bayes Algorithm"
      ]
    },
    {
      "cell_type": "code",
      "execution_count": null,
      "metadata": {
        "id": "87sAPg9obljN"
      },
      "outputs": [],
      "source": [
        "from sklearn.preprocessing import LabelEncoder\n",
        "le = LabelEncoder()\n"
      ]
    },
    {
      "cell_type": "code",
      "execution_count": null,
      "metadata": {
        "id": "fB7iAxI9bljN"
      },
      "outputs": [],
      "source": [
        "#Feature scaling\n",
        "from sklearn.preprocessing import StandardScaler\n",
        "sc = StandardScaler()\n",
        "X_train = sc.fit_transform(X_train)\n",
        "X_test = sc.transform(X_test)"
      ]
    },
    {
      "cell_type": "code",
      "execution_count": null,
      "metadata": {
        "id": "o-FXxF64bljN",
        "outputId": "656fb579-6c24-4622-a9b7-aed85c00cbf2"
      },
      "outputs": [
        {
          "data": {
            "text/plain": [
              "GaussianNB()"
            ]
          },
          "execution_count": 432,
          "metadata": {},
          "output_type": "execute_result"
        }
      ],
      "source": [
        "#Training the Naive Bayes model on the training set\n",
        "from sklearn.naive_bayes import GaussianNB\n",
        "classifier = GaussianNB()\n",
        "classifier.fit(X_train, y_train)"
      ]
    },
    {
      "cell_type": "code",
      "execution_count": null,
      "metadata": {
        "id": "q7ifCXQFbljO"
      },
      "outputs": [],
      "source": [
        "y_pred  =  classifier.predict(X_test)"
      ]
    },
    {
      "cell_type": "code",
      "execution_count": null,
      "metadata": {
        "id": "CHrRbAjQbljO",
        "outputId": "593ff607-404d-41e8-8330-2bb18b4f2e52"
      },
      "outputs": [
        {
          "data": {
            "text/plain": [
              "array([1, 0, 1, 1, 1, 0, 0, 1, 0, 0, 0, 1, 1, 0, 1, 0, 0, 0, 0, 0, 1, 1,\n",
              "       0, 0, 1])"
            ]
          },
          "execution_count": 434,
          "metadata": {},
          "output_type": "execute_result"
        }
      ],
      "source": [
        " y_pred"
      ]
    },
    {
      "cell_type": "code",
      "execution_count": null,
      "metadata": {
        "id": "6JI19xJdbljO"
      },
      "outputs": [],
      "source": [
        "from sklearn.metrics import confusion_matrix,accuracy_score\n",
        "cm = confusion_matrix(y_test, y_pred)\n",
        "ac = accuracy_score(y_test,y_pred)"
      ]
    },
    {
      "cell_type": "code",
      "execution_count": null,
      "metadata": {
        "id": "uiNGoU-VbljP",
        "outputId": "09911780-24ed-4044-99ad-ab9ae99388d8"
      },
      "outputs": [
        {
          "data": {
            "text/plain": [
              "0.96"
            ]
          },
          "execution_count": 436,
          "metadata": {},
          "output_type": "execute_result"
        }
      ],
      "source": [
        "# Acuracy\n",
        "ac"
      ]
    },
    {
      "cell_type": "code",
      "execution_count": null,
      "metadata": {
        "id": "iaAc4N-cbljP",
        "outputId": "0c6ee64e-6925-4598-c551-9b0171fa80d8"
      },
      "outputs": [
        {
          "data": {
            "text/plain": [
              "array([[13,  0],\n",
              "       [ 1, 11]], dtype=int64)"
            ]
          },
          "execution_count": 437,
          "metadata": {},
          "output_type": "execute_result"
        }
      ],
      "source": [
        "cm"
      ]
    },
    {
      "cell_type": "code",
      "execution_count": null,
      "metadata": {
        "id": "zMm7r17hbljP"
      },
      "outputs": [],
      "source": [
        "# Neural Network"
      ]
    },
    {
      "cell_type": "code",
      "execution_count": null,
      "metadata": {
        "id": "5cr8dgswbljQ"
      },
      "outputs": [],
      "source": [
        "from sklearn.neural_network import MLPClassifier\n",
        "from sklearn.datasets import make_classification\n",
        "from sklearn.model_selection import train_test_split\n",
        "X, y = make_classification(n_samples=100, random_state=1)\n",
        "X_train, X_test, y_train, y_test = train_test_split(X, y, stratify=y,\n",
        "                                                   random_state=1)\n"
      ]
    },
    {
      "cell_type": "code",
      "execution_count": null,
      "metadata": {
        "id": "wd5LfQkLbljQ"
      },
      "outputs": [],
      "source": [
        "clf = MLPClassifier(random_state=1, max_iter=300).fit(X_train, y_train)"
      ]
    },
    {
      "cell_type": "code",
      "execution_count": null,
      "metadata": {
        "id": "1CDu7IGabljQ",
        "outputId": "554f99ae-5120-4a2e-b6c6-68e091523820"
      },
      "outputs": [
        {
          "data": {
            "text/plain": [
              "array([[0.03838405, 0.96161595]])"
            ]
          },
          "execution_count": 440,
          "metadata": {},
          "output_type": "execute_result"
        }
      ],
      "source": [
        "clf.predict_proba(X_test[:1])\n"
      ]
    },
    {
      "cell_type": "code",
      "execution_count": null,
      "metadata": {
        "id": "ByNcL3iwbljQ",
        "outputId": "6378c619-54e0-4f39-e50e-b9276a8603c3"
      },
      "outputs": [
        {
          "data": {
            "text/plain": [
              "array([1, 0, 1, 0, 1, 0, 0, 1, 0, 0])"
            ]
          },
          "execution_count": 441,
          "metadata": {},
          "output_type": "execute_result"
        }
      ],
      "source": [
        "clf.predict(X_test[:10, :])"
      ]
    },
    {
      "cell_type": "code",
      "execution_count": null,
      "metadata": {
        "id": "bM6gpXyHbljR",
        "outputId": "9e75bcbc-3878-4d0e-f683-b301912d3c61"
      },
      "outputs": [
        {
          "data": {
            "text/plain": [
              "0.88"
            ]
          },
          "execution_count": 442,
          "metadata": {},
          "output_type": "execute_result"
        }
      ],
      "source": [
        "# Accuracy\n",
        "clf.score(X_test, y_test)"
      ]
    },
    {
      "cell_type": "code",
      "execution_count": null,
      "metadata": {
        "id": "SBe7mVGHbljR"
      },
      "outputs": [],
      "source": [
        "# Evaluate Gradient Boosting Models with XGBoost"
      ]
    },
    {
      "cell_type": "code",
      "execution_count": null,
      "metadata": {
        "id": "3i3CWnkjbljR"
      },
      "outputs": [],
      "source": [
        "# split data into train and test sets\n",
        "X_train, X_test, y_train, y_test = train_test_split(X, y, test_size=0.33, random_state=7)"
      ]
    },
    {
      "cell_type": "code",
      "execution_count": null,
      "metadata": {
        "id": "UN93zL-wbljR",
        "outputId": "9d0f4c6c-ccb0-435e-dcc0-62808499562d"
      },
      "outputs": [
        {
          "name": "stdout",
          "output_type": "stream",
          "text": [
            "Requirement already satisfied: xgboost in c:\\users\\mohsen\\anaconda3\\lib\\site-packages (1.5.0)\n",
            "Requirement already satisfied: scipy in c:\\users\\mohsen\\anaconda3\\lib\\site-packages (from xgboost) (1.5.0)\n",
            "Requirement already satisfied: numpy in c:\\users\\mohsen\\anaconda3\\lib\\site-packages (from xgboost) (1.18.5)\n",
            "[23:22:17] WARNING: C:/Users/Administrator/workspace/xgboost-win64_release_1.5.0/src/learner.cc:1115: Starting in XGBoost 1.3.0, the default evaluation metric used with the objective 'binary:logistic' was changed from 'error' to 'logloss'. Explicitly set eval_metric if you'd like to restore the old behavior.\n"
          ]
        },
        {
          "name": "stderr",
          "output_type": "stream",
          "text": [
            "C:\\Users\\Mohsen\\anaconda3\\lib\\site-packages\\xgboost\\sklearn.py:1224: UserWarning: The use of label encoder in XGBClassifier is deprecated and will be removed in a future release. To remove this warning, do the following: 1) Pass option use_label_encoder=False when constructing XGBClassifier object; and 2) Encode your labels (y) as integers starting with 0, i.e. 0, 1, 2, ..., [num_class - 1].\n",
            "  warnings.warn(label_encoder_deprecation_msg, UserWarning)\n"
          ]
        },
        {
          "name": "stdout",
          "output_type": "stream",
          "text": [
            "Accuracy: 93.94%\n"
          ]
        }
      ],
      "source": [
        "# train-test split evaluation of xgboost model\n",
        "from numpy import loadtxt\n",
        "!pip install xgboost\n",
        "import xgboost\n",
        "from xgboost import XGBClassifier\n",
        "from sklearn.model_selection import train_test_split\n",
        "from sklearn.metrics import accuracy_score\n",
        "# load data\n",
        "dataset = df\n",
        "\n",
        "# split data into train and test sets\n",
        "X_train, X_test, y_train, y_test = train_test_split(X, y, test_size=0.33, random_state=7)\n",
        "# fit model no training data\n",
        "model = XGBClassifier()\n",
        "model.fit(X_train, y_train)\n",
        "# make predictions for test data\n",
        "y_pred = model.predict(X_test)\n",
        "predictions = [round(value) for value in y_pred]\n",
        "# evaluate predictions\n",
        "accuracy = accuracy_score(y_test, predictions)\n",
        "print(\"Accuracy: %.2f%%\" % (accuracy * 100.0))"
      ]
    },
    {
      "cell_type": "code",
      "execution_count": null,
      "metadata": {
        "id": "10Wj9MFKbljS"
      },
      "outputs": [],
      "source": []
    }
  ],
  "metadata": {
    "kernelspec": {
      "display_name": "Python 3",
      "language": "python",
      "name": "python3"
    },
    "language_info": {
      "codemirror_mode": {
        "name": "ipython",
        "version": 3
      },
      "file_extension": ".py",
      "mimetype": "text/x-python",
      "name": "python",
      "nbconvert_exporter": "python",
      "pygments_lexer": "ipython3",
      "version": "3.8.3"
    },
    "colab": {
      "provenance": []
    }
  },
  "nbformat": 4,
  "nbformat_minor": 0
}